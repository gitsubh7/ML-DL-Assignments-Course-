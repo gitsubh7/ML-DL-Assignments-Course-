{
 "cells": [
  {
   "cell_type": "markdown",
   "id": "2c386e6d-e577-4875-a92e-38f26da2ef17",
   "metadata": {},
   "source": [
    "## Q1. What is the curse of dimensionality reduction and why is it important in machine learning?"
   ]
  },
  {
   "cell_type": "code",
   "execution_count": 1,
   "id": "e92576a2-386f-446a-8dac-d4fd484553e3",
   "metadata": {},
   "outputs": [
    {
     "data": {
      "text/plain": [
       "'\\nThe curse of dimensionality in machine learning is defined as follows, As the number of dimensions or features increases, the amount of data needed to generalize the machine learning model accurately increases exponentially.\\n'"
      ]
     },
     "execution_count": 1,
     "metadata": {},
     "output_type": "execute_result"
    }
   ],
   "source": [
    "'''\n",
    "The curse of dimensionality in machine learning is defined as follows, As the number of dimensions or features increases, the amount of data needed to generalize the machine learning model accurately increases exponentially.\n",
    "'''"
   ]
  },
  {
   "cell_type": "markdown",
   "id": "bb436793-97ee-4056-9750-f24a3e9e6e69",
   "metadata": {},
   "source": [
    "## Q2. How does the curse of dimensionality impact the performance of machine learning algorithms?"
   ]
  },
  {
   "cell_type": "code",
   "execution_count": 2,
   "id": "bd62c73a-c248-4e29-8b75-103d4a9fc6da",
   "metadata": {},
   "outputs": [
    {
     "data": {
      "text/plain": [
       "'\\nAs the number of dimensions or features increases, the amount of data needed to generalize the machine learning model accurately increases exponentially. The increase in dimensions makes the data sparse, and it increases the difficulty of generalizing the model\\n'"
      ]
     },
     "execution_count": 2,
     "metadata": {},
     "output_type": "execute_result"
    }
   ],
   "source": [
    "'''\n",
    "As the number of dimensions or features increases, the amount of data needed to generalize the machine learning model accurately increases exponentially. The increase in dimensions makes the data sparse, and it increases the difficulty of generalizing the model\n",
    "'''"
   ]
  },
  {
   "cell_type": "markdown",
   "id": "db29c375-f5bb-48cb-baa5-32098fca98f1",
   "metadata": {},
   "source": [
    "## Q4. Can you explain the concept of feature selection and how it can help with dimensionality reduction?"
   ]
  },
  {
   "cell_type": "code",
   "execution_count": 3,
   "id": "4325f781-e8d6-4c90-89b1-4006d860afc8",
   "metadata": {},
   "outputs": [
    {
     "data": {
      "text/plain": [
       "'\\nWhile both methods are used for reducing the number of features in a dataset, there is an important difference. Feature selection is simply selecting and excluding given features without changing them. Dimensionality reduction transforms features into a lower dimension.\\n'"
      ]
     },
     "execution_count": 3,
     "metadata": {},
     "output_type": "execute_result"
    }
   ],
   "source": [
    "'''\n",
    "While both methods are used for reducing the number of features in a dataset, there is an important difference. Feature selection is simply selecting and excluding given features without changing them. Dimensionality reduction transforms features into a lower dimension.\n",
    "'''"
   ]
  },
  {
   "cell_type": "markdown",
   "id": "3345f675-d467-4779-8f20-6617323651da",
   "metadata": {},
   "source": [
    "## Q5. What are some limitations and drawbacks of using dimensionality reduction techniques in machine learning?"
   ]
  },
  {
   "cell_type": "code",
   "execution_count": 4,
   "id": "b43a70dd-b857-4c17-ae01-aa98ba93902a",
   "metadata": {},
   "outputs": [
    {
     "data": {
      "text/plain": [
       "'\\nWhile doing dimensionality reduction, we lost some of the information, which can possibly affect the performance of subsequent training algorithms.\\nIt can be computationally intensive.\\nTransformed features are often hard to interpret.\\n'"
      ]
     },
     "execution_count": 4,
     "metadata": {},
     "output_type": "execute_result"
    }
   ],
   "source": [
    "'''\n",
    "While doing dimensionality reduction, we lost some of the information, which can possibly affect the performance of subsequent training algorithms.\n",
    "It can be computationally intensive.\n",
    "Transformed features are often hard to interpret.\n",
    "'''"
   ]
  },
  {
   "cell_type": "markdown",
   "id": "3aeb3243-6348-4e1c-8c77-9d4259c622b4",
   "metadata": {},
   "source": [
    "## Q6. How does the curse of dimensionality relate to overfitting and underfitting in machine learning?"
   ]
  },
  {
   "cell_type": "code",
   "execution_count": null,
   "id": "4d673d66-7478-425d-91dc-13adcf65bc83",
   "metadata": {},
   "outputs": [],
   "source": [
    "'"
   ]
  }
 ],
 "metadata": {
  "kernelspec": {
   "display_name": "Python 3 (ipykernel)",
   "language": "python",
   "name": "python3"
  },
  "language_info": {
   "codemirror_mode": {
    "name": "ipython",
    "version": 3
   },
   "file_extension": ".py",
   "mimetype": "text/x-python",
   "name": "python",
   "nbconvert_exporter": "python",
   "pygments_lexer": "ipython3",
   "version": "3.10.8"
  }
 },
 "nbformat": 4,
 "nbformat_minor": 5
}
