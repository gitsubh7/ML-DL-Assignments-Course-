{
 "cells": [
  {
   "cell_type": "markdown",
   "id": "c22b66bd-19e7-4369-b206-fe11dd919bf0",
   "metadata": {},
   "source": [
    "## Q1. What are the key steps involved in building an end-to-end web application, from development to deployment on the cloud?"
   ]
  },
  {
   "cell_type": "code",
   "execution_count": 1,
   "id": "10bbfa5a-9d3b-41e0-9a8b-2d02257b7c7d",
   "metadata": {},
   "outputs": [
    {
     "data": {
      "text/plain": [
       "'\\nRequirements review & proposal.\\nPlanning & blueprints.\\nWeb application design.\\nCopywriting & labeling.\\nWeb application programming.\\nTesting & launch.\\nApplication maintenance\\n'"
      ]
     },
     "execution_count": 1,
     "metadata": {},
     "output_type": "execute_result"
    }
   ],
   "source": [
    "'''\n",
    "Requirements review & proposal.\n",
    "Planning & blueprints.\n",
    "Web application design.\n",
    "Copywriting & labeling.\n",
    "Web application programming.\n",
    "Testing & launch.\n",
    "Application maintenance\n",
    "'''"
   ]
  },
  {
   "cell_type": "markdown",
   "id": "ba0b3af1-4f4e-45f1-8629-f4f3fe087ae7",
   "metadata": {},
   "source": [
    "## Q2. Explain the difference between traditional web hosting and cloud hosting."
   ]
  },
  {
   "cell_type": "code",
   "execution_count": 2,
   "id": "66eea311-b08b-4f11-b223-c62c42601d17",
   "metadata": {},
   "outputs": [
    {
     "data": {
      "text/plain": [
       "\"\\nCloud hosting is more quickly scalable than traditional hosting. If an application or website receives more or less traffic, the cloud servers scale up and down automatically. With cloud hosting, there's no need to manually add or remove server space as there is in shared hosting\\n\""
      ]
     },
     "execution_count": 2,
     "metadata": {},
     "output_type": "execute_result"
    }
   ],
   "source": [
    "'''\n",
    "Cloud hosting is more quickly scalable than traditional hosting. If an application or website receives more or less traffic, the cloud servers scale up and down automatically. With cloud hosting, there's no need to manually add or remove server space as there is in shared hosting\n",
    "'''"
   ]
  },
  {
   "cell_type": "markdown",
   "id": "d98f8fd5-35bc-40de-8342-915ba36360af",
   "metadata": {},
   "source": [
    "## Q3. How do you choose the right cloud provider for your application deployment, and what factors should you consider?"
   ]
  },
  {
   "cell_type": "code",
   "execution_count": 3,
   "id": "fa931a7e-b28a-4925-92b8-61550d19de0c",
   "metadata": {},
   "outputs": [
    {
     "data": {
      "text/plain": [
       "'\\nHow to pick a cloud service provider? Use these 8 key areas for consideration.\\nCertifications & Standards.\\nTechnologies & Service Roadmap.\\nData Security, Data Governance and Business policies.\\nService Dependencies & Partnerships.\\nContracts, Commercials & SLAs.\\nReliability & Performance.\\n'"
      ]
     },
     "execution_count": 3,
     "metadata": {},
     "output_type": "execute_result"
    }
   ],
   "source": [
    "'''\n",
    "How to pick a cloud service provider? Use these 8 key areas for consideration.\n",
    "Certifications & Standards.\n",
    "Technologies & Service Roadmap.\n",
    "Data Security, Data Governance and Business policies.\n",
    "Service Dependencies & Partnerships.\n",
    "Contracts, Commercials & SLAs.\n",
    "Reliability & Performance.\n",
    "'''"
   ]
  },
  {
   "cell_type": "markdown",
   "id": "c422384a-8e94-4d40-9578-2e50b13a324b",
   "metadata": {},
   "source": [
    "## Q4. How do you design and build a responsive user interface for your web application, and what are some best practices to follow?"
   ]
  },
  {
   "cell_type": "code",
   "execution_count": 4,
   "id": "ea32dc81-33be-4b8d-b4c4-a55fed7ed2af",
   "metadata": {},
   "outputs": [
    {
     "data": {
      "text/plain": [
       "'\\nAdding CSS media queries to your CSS style sheet is a great way to make your web design responsive and adaptable. By adding a media query, you can create breakpoints based on various screen sizes, which allows you to control how the design will look in different states\\n'"
      ]
     },
     "execution_count": 4,
     "metadata": {},
     "output_type": "execute_result"
    }
   ],
   "source": [
    "'''\n",
    "Adding CSS media queries to your CSS style sheet is a great way to make your web design responsive and adaptable. By adding a media query, you can create breakpoints based on various screen sizes, which allows you to control how the design will look in different states\n",
    "'''"
   ]
  },
  {
   "cell_type": "markdown",
   "id": "6fea37b6-5038-4908-a438-57cd602d81a8",
   "metadata": {},
   "source": [
    "## Q5. How do you integrate the machine learning model with the user interface for the Algerian Forest Fires project(which we discussed in class), and what APIs or libraries can you use for this purpose?"
   ]
  },
  {
   "cell_type": "code",
   "execution_count": null,
   "id": "3cdb269a-0e59-431e-b52d-511a5503e64e",
   "metadata": {},
   "outputs": [],
   "source": [
    "'''\n",
    "using the api on flask and integrating the libraries from requirements.txt file\n"
   ]
  }
 ],
 "metadata": {
  "kernelspec": {
   "display_name": "Python 3 (ipykernel)",
   "language": "python",
   "name": "python3"
  },
  "language_info": {
   "codemirror_mode": {
    "name": "ipython",
    "version": 3
   },
   "file_extension": ".py",
   "mimetype": "text/x-python",
   "name": "python",
   "nbconvert_exporter": "python",
   "pygments_lexer": "ipython3",
   "version": "3.10.8"
  }
 },
 "nbformat": 4,
 "nbformat_minor": 5
}
