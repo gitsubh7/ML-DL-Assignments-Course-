{
 "cells": [
  {
   "cell_type": "markdown",
   "id": "f7ea92ec-1d01-4d2c-b785-048b83062282",
   "metadata": {
    "tags": []
   },
   "source": [
    "## Q1. Explain the concept of R-squared in linear regression models. How is it calculated, and what does it represent?"
   ]
  },
  {
   "cell_type": "code",
   "execution_count": 1,
   "id": "b03691dd-f79c-4d1f-9eb3-85b60344db28",
   "metadata": {},
   "outputs": [
    {
     "data": {
      "text/plain": [
       "'\\nR-Squared (R² or the coefficient of determination) is a statistical measure in a regression model that determines the proportion of variance in the dependent variable that can be explained by the independent variable. In other words, r-squared shows how well the data fit the regression model (the goodness of fit)\\n\\n'"
      ]
     },
     "execution_count": 1,
     "metadata": {},
     "output_type": "execute_result"
    }
   ],
   "source": [
    "'''\n",
    "R-Squared (R² or the coefficient of determination) is a statistical measure in a regression model that determines the proportion of variance in the dependent variable that can be explained by the independent variable. In other words, r-squared shows how well the data fit the regression model (the goodness of fit)\n",
    "\n",
    "'''"
   ]
  },
  {
   "cell_type": "markdown",
   "id": "42f58bbb-559a-48cc-93c2-6e3bb4050067",
   "metadata": {},
   "source": [
    "## Q2. Define adjusted R-squared and explain how it differs from the regular R-squared."
   ]
  },
  {
   "cell_type": "code",
   "execution_count": null,
   "id": "fd28f78c-2a82-402b-a0da-4f5f517ebfa7",
   "metadata": {},
   "outputs": [],
   "source": [
    "'''\n",
    "Adjusted R-squared is a modified version of R-squared that has been adjusted for the number of predictors in the model. The adjusted R-squared increases when the new term improves the model more than would be expected by chance. It decreases when a predictor improves the model by less than expected\n",
    "'''"
   ]
  },
  {
   "cell_type": "markdown",
   "id": "a4b0e88c-bd52-4905-94d3-e2a6315aac5a",
   "metadata": {},
   "source": [
    "## Q3. When is it more appropriate to use adjusted R-squared?"
   ]
  },
  {
   "cell_type": "code",
   "execution_count": 3,
   "id": "c589254d-7082-41a4-8e77-fb0d9705fa15",
   "metadata": {},
   "outputs": [
    {
     "data": {
      "text/plain": [
       "'\\nAdjusted R-square should be used to compare models with different numbers of independent variables. Adjusted R-square should be used while selecting important predictors (independent variables) for the regression model.\\n'"
      ]
     },
     "execution_count": 3,
     "metadata": {},
     "output_type": "execute_result"
    }
   ],
   "source": [
    "'''\n",
    "Adjusted R-square should be used to compare models with different numbers of independent variables. Adjusted R-square should be used while selecting important predictors (independent variables) for the regression model.\n",
    "'''"
   ]
  },
  {
   "cell_type": "markdown",
   "id": "4ef0a2d6-fee6-4ed6-a1c8-a5e3f41b4c22",
   "metadata": {},
   "source": [
    "## Q4. What are RMSE, MSE, and MAE in the context of regression analysis? How are these metrics calculated, and what do they represent?"
   ]
  },
  {
   "cell_type": "code",
   "execution_count": 4,
   "id": "70ae3b70-491e-427c-a495-f364bd9cccae",
   "metadata": {},
   "outputs": [
    {
     "data": {
      "text/plain": [
       "'\\nRoot Mean Squared Error (RMSE)and Mean Absolute Error (MAE) are metrics used to evaluate a Regression Model. These metrics tell us how accurate our predictions are and, what is the amount of deviation from the actual values.\\n'"
      ]
     },
     "execution_count": 4,
     "metadata": {},
     "output_type": "execute_result"
    }
   ],
   "source": [
    "'''\n",
    "Root Mean Squared Error (RMSE)and Mean Absolute Error (MAE) are metrics used to evaluate a Regression Model. These metrics tell us how accurate our predictions are and, what is the amount of deviation from the actual values.\n",
    "'''"
   ]
  },
  {
   "cell_type": "markdown",
   "id": "1a419783-8d31-4ddc-a3e9-5d4cd6251a8d",
   "metadata": {},
   "source": [
    "## Q5. Discuss the advantages and disadvantages of using RMSE, MSE, and MAE as evaluation metrics regression analysis."
   ]
  },
  {
   "cell_type": "markdown",
   "id": "3d5c59d0-0491-4703-9cb4-430b75a51f06",
   "metadata": {},
   "source": [
    "## Q6. Explain the concept of Lasso regularization. How does it differ from Ridge regularization, and when is it more appropriate to use?"
   ]
  },
  {
   "cell_type": "code",
   "execution_count": 5,
   "id": "6f4ad719-9448-4d7a-91d2-b8ed7d0aa43d",
   "metadata": {},
   "outputs": [
    {
     "data": {
      "text/plain": [
       "'\\nSimilar to the lasso regression, ridge regression puts a similar constraint on the coefficients by introducing a penalty factor. However, while lasso regression takes the magnitude of the coefficients, ridge regression takes the square. Ridge regression is also referred to as L2 Regularization.\\n\\n'"
      ]
     },
     "execution_count": 5,
     "metadata": {},
     "output_type": "execute_result"
    }
   ],
   "source": [
    "'''\n",
    "Similar to the lasso regression, ridge regression puts a similar constraint on the coefficients by introducing a penalty factor. However, while lasso regression takes the magnitude of the coefficients, ridge regression takes the square. Ridge regression is also referred to as L2 Regularization.\n",
    "\n",
    "'''"
   ]
  },
  {
   "cell_type": "markdown",
   "id": "80599e06-11dd-4d90-ac80-72f29e8ff2e0",
   "metadata": {},
   "source": [
    "## Q7. How do regularized linear models help to prevent overfitting in machine learning? Provide anvexample to illustrate."
   ]
  },
  {
   "cell_type": "code",
   "execution_count": 8,
   "id": "ddbb63e0-273c-44e0-a17e-033f6387e81c",
   "metadata": {},
   "outputs": [
    {
     "data": {
      "text/plain": [
       "'\\nIn short, Regularization in machine learning is the process of regularizing the parameters that constrain, regularizes, or shrinks the coefficient estimates towards zero. In other words, this technique discourages learning a more complex or flexible model, avoiding the risk of Overfitting.\\n'"
      ]
     },
     "execution_count": 8,
     "metadata": {},
     "output_type": "execute_result"
    }
   ],
   "source": [
    "'''\n",
    "In short, Regularization in machine learning is the process of regularizing the parameters that constrain, regularizes, or shrinks the coefficient estimates towards zero. In other words, this technique discourages learning a more complex or flexible model, avoiding the risk of Overfitting.\n",
    "'''"
   ]
  },
  {
   "cell_type": "markdown",
   "id": "f977913d-3011-45ad-ae57-2dc1ceae5eb7",
   "metadata": {},
   "source": [
    "## Q8. Discuss the limitations of regularized linear models and explain why they may not always be the bestchoice for regression analysis."
   ]
  },
  {
   "cell_type": "code",
   "execution_count": 10,
   "id": "dfe1340c-f94a-449b-b8e1-eb7003eddc31",
   "metadata": {},
   "outputs": [
    {
     "data": {
      "text/plain": [
       "'\\nIt is used to estimate how badly models are performing for the given dataset and its dimensions. Why is cost function important in machine .'"
      ]
     },
     "execution_count": 10,
     "metadata": {},
     "output_type": "execute_result"
    }
   ],
   "source": [
    "'''\n",
    "It is used to estimate how badly models are performing for the given dataset and its dimensions. Why is cost function important in machine .'''\n"
   ]
  },
  {
   "cell_type": "markdown",
   "id": "00602a9a-4b9a-4b8f-9ec7-f5dc429126e7",
   "metadata": {},
   "source": [
    "## Q9. You are comparing the performance of two regression models using different evaluation metrics. Model A has an RMSE of 10, while Model B has an MAE of 8. Which model would you choose as the better performer, and why? Are there any limitations to your choice of metric?"
   ]
  },
  {
   "cell_type": "code",
   "execution_count": 12,
   "id": "ae946ffe-de81-4baf-bae6-e9c476305638",
   "metadata": {},
   "outputs": [
    {
     "data": {
      "text/plain": [
       "' as in  rmse the outliers as well as basically the errors get squared which makes the model less efficient\\n'"
      ]
     },
     "execution_count": 12,
     "metadata": {},
     "output_type": "execute_result"
    }
   ],
   "source": [
    "''' as in  rmse the outliers as well as basically the errors get squared which makes the model less efficient\n",
    "'''"
   ]
  },
  {
   "cell_type": "markdown",
   "id": "04e071ad-5d27-4fbc-999d-ca23f78848ac",
   "metadata": {},
   "source": [
    "## Q10. You are comparing the performance of two regularized linear models using different types ofregularization. Model A uses Ridge regularization with a regularization parameter of 0.1, while Model Buses Lasso regularization with a regularization parameter of 0.5. Which model would you choose as thebetter performer, and why? Are there any trade-offs or limitations to your choice of regularizationmethod?"
   ]
  },
  {
   "cell_type": "code",
   "execution_count": null,
   "id": "eaa1a8a2-a07d-4694-9122-ea68e8c33d5f",
   "metadata": {},
   "outputs": [],
   "source": []
  }
 ],
 "metadata": {
  "kernelspec": {
   "display_name": "Python 3 (ipykernel)",
   "language": "python",
   "name": "python3"
  },
  "language_info": {
   "codemirror_mode": {
    "name": "ipython",
    "version": 3
   },
   "file_extension": ".py",
   "mimetype": "text/x-python",
   "name": "python",
   "nbconvert_exporter": "python",
   "pygments_lexer": "ipython3",
   "version": "3.10.8"
  }
 },
 "nbformat": 4,
 "nbformat_minor": 5
}
