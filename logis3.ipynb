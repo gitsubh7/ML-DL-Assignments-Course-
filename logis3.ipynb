{
 "cells": [
  {
   "cell_type": "markdown",
   "id": "b6993579-dd9e-49e5-b295-000f2beb9e30",
   "metadata": {},
   "source": [
    "## Q1. Explain the concept of precision and recall in the context of classification models."
   ]
  },
  {
   "cell_type": "code",
   "execution_count": 2,
   "id": "f5f18d51-05d9-40da-a904-de1c27b113a0",
   "metadata": {},
   "outputs": [
    {
     "data": {
      "text/plain": [
       "'\\nPrecision is a metric that measures the accuracy of positive predictions. It is the number of true positive predictions divided by the number of true positive predictions plus false positive predictions. Recall, on the other hand, measures the completeness of positive predictions.\\n'"
      ]
     },
     "execution_count": 2,
     "metadata": {},
     "output_type": "execute_result"
    }
   ],
   "source": [
    "'''\n",
    "Precision is a metric that measures the accuracy of positive predictions. It is the number of true positive predictions divided by the number of true positive predictions plus false positive predictions. Recall, on the other hand, measures the completeness of positive predictions.\n",
    "'''"
   ]
  },
  {
   "cell_type": "markdown",
   "id": "c2e699fe-8a66-4175-9d22-eeea1e130cac",
   "metadata": {},
   "source": [
    "## Q2. What is the F1 score and how is it calculated? How is it different from precision and recall?"
   ]
  },
  {
   "cell_type": "code",
   "execution_count": 3,
   "id": "4814e156-8c5d-402c-82aa-48b399d5dbc6",
   "metadata": {},
   "outputs": [
    {
     "data": {
      "text/plain": [
       "'\\nF1-Score is a measure combining both precision and recall. It is generally described as the harmonic mean of the two. Harmonic mean is just another way to calculate an “average” of values, generally described as more suitable for ratios (such as precision and recall) than the traditional arithmetic mean\\n'"
      ]
     },
     "execution_count": 3,
     "metadata": {},
     "output_type": "execute_result"
    }
   ],
   "source": [
    "'''\n",
    "F1-Score is a measure combining both precision and recall. It is generally described as the harmonic mean of the two. Harmonic mean is just another way to calculate an “average” of values, generally described as more suitable for ratios (such as precision and recall) than the traditional arithmetic mean\n",
    "'''"
   ]
  },
  {
   "cell_type": "markdown",
   "id": "cbf2ac96-963a-4f05-8552-0fe7f875c2d7",
   "metadata": {},
   "source": [
    "## Q3. What is ROC and AUC, and how are they used to evaluate the performance of classification models?"
   ]
  },
  {
   "cell_type": "code",
   "execution_count": 4,
   "id": "545c606d-d789-4475-a0fb-ac895e0a0034",
   "metadata": {},
   "outputs": [
    {
     "data": {
      "text/plain": [
       "'\\nROC is a probability curve and AUC represents the degree or measure of separability. It tells how much the model is capable of distinguishing between classes. Higher the AUC, the better the model is at predicting 0 classes as 0 and 1 classes as 1\\n'"
      ]
     },
     "execution_count": 4,
     "metadata": {},
     "output_type": "execute_result"
    }
   ],
   "source": [
    "'''\n",
    "ROC is a probability curve and AUC represents the degree or measure of separability. It tells how much the model is capable of distinguishing between classes. Higher the AUC, the better the model is at predicting 0 classes as 0 and 1 classes as 1\n",
    "'''"
   ]
  },
  {
   "cell_type": "markdown",
   "id": "51dfb048-7fe5-42a2-8a63-e9936713d601",
   "metadata": {},
   "source": [
    "## Q4. How do you choose the best metric to evaluate the performance of a classification model?"
   ]
  },
  {
   "cell_type": "code",
   "execution_count": 5,
   "id": "fb9171eb-d82b-472d-8b06-2893f5e9b048",
   "metadata": {},
   "outputs": [
    {
     "data": {
      "text/plain": [
       "'\\nMetrics like accuracy, precision, recall are good ways to evaluate classification models for balanced datasets, but if the data is imbalanced then other methods like ROC/AUC perform better in evaluating the model performanc\\n'"
      ]
     },
     "execution_count": 5,
     "metadata": {},
     "output_type": "execute_result"
    }
   ],
   "source": [
    "'''\n",
    "Metrics like accuracy, precision, recall are good ways to evaluate classification models for balanced datasets, but if the data is imbalanced then other methods like ROC/AUC perform better in evaluating the model performanc\n",
    "'''"
   ]
  },
  {
   "cell_type": "markdown",
   "id": "324c3dfc-3325-4e9a-b65b-e7ea34bf27a2",
   "metadata": {},
   "source": [
    "## What is multiclass classification and how is it different from binary classification?"
   ]
  },
  {
   "cell_type": "code",
   "execution_count": 6,
   "id": "3094b76e-e901-484c-8256-6f5fdb28a042",
   "metadata": {},
   "outputs": [
    {
     "data": {
      "text/plain": [
       "'\\nBinary classification are those tasks where examples are assigned exactly one of two classes. Multi-class classification is those tasks where examples are assigned exactly one of more than two classes\\n'"
      ]
     },
     "execution_count": 6,
     "metadata": {},
     "output_type": "execute_result"
    }
   ],
   "source": [
    "'''\n",
    "Binary classification are those tasks where examples are assigned exactly one of two classes. Multi-class classification is those tasks where examples are assigned exactly one of more than two classes\n",
    "'''"
   ]
  },
  {
   "cell_type": "markdown",
   "id": "443262b9-48fa-4190-b66f-432385171caf",
   "metadata": {},
   "source": [
    "## Q5. Explain how logistic regression can be used for multiclass classification."
   ]
  },
  {
   "cell_type": "code",
   "execution_count": 7,
   "id": "9e4ea0b6-f639-43df-ab8b-5eb3f842d851",
   "metadata": {},
   "outputs": [
    {
     "data": {
      "text/plain": [
       "'\\nLogistic regression, by default, is limited to two-class classification problems. Some extensions like one-vs-rest can allow logistic regression to be used for multi-class classification problems, although they require that the classification problem first be transformed into multiple binary classification problems\\n'"
      ]
     },
     "execution_count": 7,
     "metadata": {},
     "output_type": "execute_result"
    }
   ],
   "source": [
    "'''\n",
    "Logistic regression, by default, is limited to two-class classification problems. Some extensions like one-vs-rest can allow logistic regression to be used for multi-class classification problems, although they require that the classification problem first be transformed into multiple binary classification problems\n",
    "'''"
   ]
  },
  {
   "cell_type": "markdown",
   "id": "3ddd05d0-4713-45ad-817e-0774b779ea65",
   "metadata": {},
   "source": [
    "## Q6. Describe the steps involved in an end-to-end project for multiclass classification.\n",
    "\n"
   ]
  },
  {
   "cell_type": "markdown",
   "id": "bf73a739-1076-4623-a292-5e2187ef2648",
   "metadata": {},
   "source": [
    "## Q7. What is model deployment and why is it important?"
   ]
  },
  {
   "cell_type": "code",
   "execution_count": 8,
   "id": "eba2d76f-27db-4cf3-981b-38303faf2ad9",
   "metadata": {},
   "outputs": [
    {
     "data": {
      "text/plain": [
       "\"\\nModel deployment is the process of putting machine learning models into production. This makes the model's predictions available to users, developers or systems, so they can make business decisions based on data, interact with their application (like recognize a face in an image) and so on\\n\""
      ]
     },
     "execution_count": 8,
     "metadata": {},
     "output_type": "execute_result"
    }
   ],
   "source": [
    "'''\n",
    "Model deployment is the process of putting machine learning models into production. This makes the model's predictions available to users, developers or systems, so they can make business decisions based on data, interact with their application (like recognize a face in an image) and so on\n",
    "'''"
   ]
  },
  {
   "cell_type": "code",
   "execution_count": null,
   "id": "fc5fdc36-70b9-4aae-9049-f988622185ce",
   "metadata": {},
   "outputs": [],
   "source": []
  }
 ],
 "metadata": {
  "kernelspec": {
   "display_name": "Python 3 (ipykernel)",
   "language": "python",
   "name": "python3"
  },
  "language_info": {
   "codemirror_mode": {
    "name": "ipython",
    "version": 3
   },
   "file_extension": ".py",
   "mimetype": "text/x-python",
   "name": "python",
   "nbconvert_exporter": "python",
   "pygments_lexer": "ipython3",
   "version": "3.10.8"
  }
 },
 "nbformat": 4,
 "nbformat_minor": 5
}
