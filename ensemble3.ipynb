{
 "cells": [
  {
   "cell_type": "markdown",
   "id": "30062819-7752-48af-8ec4-f8d4acba7992",
   "metadata": {},
   "source": [
    "## Q1. What is Random Forest Regressor?"
   ]
  },
  {
   "cell_type": "code",
   "execution_count": 1,
   "id": "8371328a-2bf5-4a7a-932e-4b5d68693d33",
   "metadata": {},
   "outputs": [
    {
     "data": {
      "text/plain": [
       "'\\nRandom Forest Regression is a supervised learning algorithm that uses ensemble learning method for regression. Ensemble learning method is a technique that combines predictions from multiple machine learning algorithms to make a more accurate prediction than a single model.\\n'"
      ]
     },
     "execution_count": 1,
     "metadata": {},
     "output_type": "execute_result"
    }
   ],
   "source": [
    "'''\n",
    "Random Forest Regression is a supervised learning algorithm that uses ensemble learning method for regression. Ensemble learning method is a technique that combines predictions from multiple machine learning algorithms to make a more accurate prediction than a single model.\n",
    "'''"
   ]
  },
  {
   "cell_type": "markdown",
   "id": "04c18fbc-6925-47e5-baf7-5d359904a4ec",
   "metadata": {},
   "source": [
    "## Q2. How does Random Forest Regressor reduce the risk of overfitting?"
   ]
  },
  {
   "cell_type": "code",
   "execution_count": 2,
   "id": "d414d040-d916-4d4d-b837-f808728f91ab",
   "metadata": {},
   "outputs": [
    {
     "data": {
      "text/plain": [
       "'\\nIn general, random forests are much less likely to overfit than other models because they are made up of many weak classifiers that are trained completely independently on completely different subsets of the training data.\\n'"
      ]
     },
     "execution_count": 2,
     "metadata": {},
     "output_type": "execute_result"
    }
   ],
   "source": [
    "'''\n",
    "In general, random forests are much less likely to overfit than other models because they are made up of many weak classifiers that are trained completely independently on completely different subsets of the training data.\n",
    "'''"
   ]
  },
  {
   "cell_type": "markdown",
   "id": "b818b717-48a6-4aaf-b2ed-6ce049aa0c83",
   "metadata": {},
   "source": [
    "## Q3. How does Random Forest Regressor aggregate the predictions of multiple decision trees?"
   ]
  },
  {
   "cell_type": "code",
   "execution_count": 3,
   "id": "f885f722-cbd5-4a8b-9355-c98814f3593c",
   "metadata": {},
   "outputs": [
    {
     "data": {
      "text/plain": [
       "'\\nThe Random Forest Algorithm combines the output of multiple (randomly created) Decision Trees to generate the final output. This process of combining the output of multiple individual models (also known as weak learners) is called Ensemble Learning\\n'"
      ]
     },
     "execution_count": 3,
     "metadata": {},
     "output_type": "execute_result"
    }
   ],
   "source": [
    "'''\n",
    "The Random Forest Algorithm combines the output of multiple (randomly created) Decision Trees to generate the final output. This process of combining the output of multiple individual models (also known as weak learners) is called Ensemble Learning\n",
    "'''"
   ]
  },
  {
   "cell_type": "markdown",
   "id": "7de8528c-45a3-4271-b276-7e2af2b4b93c",
   "metadata": {},
   "source": [
    "## Q4. What are the hyperparameters of Random Forest Regressor?"
   ]
  },
  {
   "cell_type": "code",
   "execution_count": 4,
   "id": "4d30f2c8-a05f-43fd-8d4d-2e4dfc534c10",
   "metadata": {},
   "outputs": [
    {
     "data": {
      "text/plain": [
       "'\\nn random forest, the hyperparameters are the number of trees, number of features and the type of trees (such as GBM or M5). The number of features is important and should be tuned. In this case, random forest is useful because it automatically tunes the number of features\\n'"
      ]
     },
     "execution_count": 4,
     "metadata": {},
     "output_type": "execute_result"
    }
   ],
   "source": [
    "'''\n",
    "n random forest, the hyperparameters are the number of trees, number of features and the type of trees (such as GBM or M5). The number of features is important and should be tuned. In this case, random forest is useful because it automatically tunes the number of features\n",
    "'''"
   ]
  },
  {
   "cell_type": "markdown",
   "id": "95f38c36-155b-42d4-a4cd-be09e7c4d4d7",
   "metadata": {},
   "source": [
    "## Q5. What is the difference between Random Forest Regressor and Decision Tree Regressor?"
   ]
  },
  {
   "cell_type": "code",
   "execution_count": 5,
   "id": "8371fabe-334e-448c-b1af-2ff8a8139079",
   "metadata": {},
   "outputs": [
    {
     "data": {
      "text/plain": [
       "'\\nA decision tree combines some decisions, whereas a random forest combines several decision trees. Thus, it is a long process, yet slow. Whereas, a decision tree is fast and operates easily on large data sets, especially the linear one. The random forest model needs rigorous training\\n'"
      ]
     },
     "execution_count": 5,
     "metadata": {},
     "output_type": "execute_result"
    }
   ],
   "source": [
    "'''\n",
    "A decision tree combines some decisions, whereas a random forest combines several decision trees. Thus, it is a long process, yet slow. Whereas, a decision tree is fast and operates easily on large data sets, especially the linear one. The random forest model needs rigorous training\n",
    "'''"
   ]
  },
  {
   "cell_type": "markdown",
   "id": "0a1a8084-7822-4830-8cc5-40568eb1737a",
   "metadata": {},
   "source": [
    "## Q6. What are the advantages and disadvantages of Random Forest Regressor?"
   ]
  },
  {
   "cell_type": "code",
   "execution_count": 7,
   "id": "ffb7b6d5-a646-4939-99a0-f226355f79e7",
   "metadata": {},
   "outputs": [
    {
     "data": {
      "text/plain": [
       "'\\nWhat are the advantages of random forest regressor?\\nImage result for Q6. What are the advantages and disadvantages of Random Forest Regressor?\\nAdvantages of random forest\\nIt can perform both regression and classification tasks.\\nA random forest produces good predictions that can be understood easily.\\nIt can handle large datasets efficiently.\\nThe random forest algorithm provides a higher level of accuracy in predicting outcomes over the decision tree algorithm\\n'"
      ]
     },
     "execution_count": 7,
     "metadata": {},
     "output_type": "execute_result"
    }
   ],
   "source": [
    "'''\n",
    "What are the advantages of random forest regressor?\n",
    "Image result for Q6. What are the advantages and disadvantages of Random Forest Regressor?\n",
    "Advantages of random forest\n",
    "It can perform both regression and classification tasks.\n",
    "A random forest produces good predictions that can be understood easily.\n",
    "It can handle large datasets efficiently.\n",
    "The random forest algorithm provides a higher level of accuracy in predicting outcomes over the decision tree algorithm\n",
    "'''"
   ]
  },
  {
   "cell_type": "markdown",
   "id": "32115888-d2d7-4f72-955a-8dbf2e159882",
   "metadata": {},
   "source": []
  }
 ],
 "metadata": {
  "kernelspec": {
   "display_name": "Python 3 (ipykernel)",
   "language": "python",
   "name": "python3"
  },
  "language_info": {
   "codemirror_mode": {
    "name": "ipython",
    "version": 3
   },
   "file_extension": ".py",
   "mimetype": "text/x-python",
   "name": "python",
   "nbconvert_exporter": "python",
   "pygments_lexer": "ipython3",
   "version": "3.10.8"
  }
 },
 "nbformat": 4,
 "nbformat_minor": 5
}
