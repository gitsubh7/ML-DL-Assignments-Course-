{
 "cells": [
  {
   "cell_type": "markdown",
   "id": "20c25b34-49e6-4918-b160-256b8807c5de",
   "metadata": {},
   "source": [
    "## Q1. Explain the difference between simple linear regression and multiple linear regression. Provide an example of each."
   ]
  },
  {
   "cell_type": "code",
   "execution_count": 1,
   "id": "1e9b74e4-792a-4a30-a203-f5662feb087d",
   "metadata": {},
   "outputs": [
    {
     "data": {
      "text/plain": [
       "'\\nWhat is difference between simple linear and multiple linear regressions? Simple linear regression has only one x and one y variable. Multiple linear regression has one y and two or more x variables. For instance, when we predict rent based on square feet alone that is simple linear regression.\\n'"
      ]
     },
     "execution_count": 1,
     "metadata": {},
     "output_type": "execute_result"
    }
   ],
   "source": [
    "'''\n",
    "What is difference between simple linear and multiple linear regressions? Simple linear regression has only one x and one y variable. Multiple linear regression has one y and two or more x variables. For instance, when we predict rent based on square feet alone that is simple linear regression.\n",
    "'''"
   ]
  },
  {
   "cell_type": "markdown",
   "id": "60ca62d4-15b5-4d03-ac9f-e01a7802dabf",
   "metadata": {},
   "source": [
    "## Q2. Discuss the assumptions of linear regression. How can you check whether these assumptions hold ina given dataset?"
   ]
  },
  {
   "cell_type": "code",
   "execution_count": 2,
   "id": "aceb1d35-19c8-4a2d-a2f1-53ea609ce243",
   "metadata": {},
   "outputs": [
    {
     "data": {
      "text/plain": [
       "'\\nHow to Test the Assumptions of Linear Regression?\\nAssumption One: Linearity of the Data.\\nAssumption Two: Predictors (x) are Independent & Observed with Negligible Error.\\nAssumption Three: Residual Errors have a Mean Value of Zero.\\nAssumption Four: Residual Errors have Constant Variance.\\n'"
      ]
     },
     "execution_count": 2,
     "metadata": {},
     "output_type": "execute_result"
    }
   ],
   "source": [
    "'''\n",
    "How to Test the Assumptions of Linear Regression?\n",
    "Assumption One: Linearity of the Data.\n",
    "Assumption Two: Predictors (x) are Independent & Observed with Negligible Error.\n",
    "Assumption Three: Residual Errors have a Mean Value of Zero.\n",
    "Assumption Four: Residual Errors have Constant Variance.\n",
    "'''"
   ]
  },
  {
   "cell_type": "markdown",
   "id": "66934e80-d923-4242-9f16-0269f29a87fe",
   "metadata": {},
   "source": [
    "## Q3. How do you interpret the slope and intercept in a linear regression model? Provide an example using a real-world scenario."
   ]
  },
  {
   "cell_type": "code",
   "execution_count": 3,
   "id": "019b9d47-7956-47f4-944e-33127ad8bb85",
   "metadata": {},
   "outputs": [
    {
     "data": {
      "text/plain": [
       "'\\nThe slope indicates the steepness of a line and the intercept indicates the location where it intersects an axis. The slope and the intercept define the linear relationship between two variables, and can be used to estimate an average rate of change.\\n'"
      ]
     },
     "execution_count": 3,
     "metadata": {},
     "output_type": "execute_result"
    }
   ],
   "source": [
    "'''\n",
    "The slope indicates the steepness of a line and the intercept indicates the location where it intersects an axis. The slope and the intercept define the linear relationship between two variables, and can be used to estimate an average rate of change.\n",
    "'''"
   ]
  },
  {
   "cell_type": "markdown",
   "id": "51ce4fe9-503e-40cf-b56f-a9be4f6dc770",
   "metadata": {},
   "source": [
    "## Q4. Explain the concept of gradient descent. How is it used in machine learning?"
   ]
  },
  {
   "cell_type": "code",
   "execution_count": 4,
   "id": "73296964-c8ce-4f3c-830c-f0e4f7880473",
   "metadata": {},
   "outputs": [
    {
     "data": {
      "text/plain": [
       "'\\nGradient descent is an optimization algorithm which is commonly-used to train machine learning models and neural networks. Training data helps these models learn over time, and the cost function within gradient descent specifically acts as a barometer, gauging its accuracy with each iteration of parameter updates.\\n'"
      ]
     },
     "execution_count": 4,
     "metadata": {},
     "output_type": "execute_result"
    }
   ],
   "source": [
    "'''\n",
    "Gradient descent is an optimization algorithm which is commonly-used to train machine learning models and neural networks. Training data helps these models learn over time, and the cost function within gradient descent specifically acts as a barometer, gauging its accuracy with each iteration of parameter updates.\n",
    "'''\n"
   ]
  },
  {
   "cell_type": "markdown",
   "id": "cf9ad1a7-49c1-4ec1-8a16-b2604418320e",
   "metadata": {},
   "source": [
    "## Q5. Describe the multiple linear regression model. How does it differ from simple linear regression?"
   ]
  },
  {
   "cell_type": "code",
   "execution_count": 5,
   "id": "a4c3b309-c4ee-41cf-abd2-1bf065f7ed51",
   "metadata": {},
   "outputs": [
    {
     "data": {
      "text/plain": [
       "'\\nMultiple regression is a broader class of regressions that encompasses linear and nonlinear regressions with multiple explanatory variables. Whereas linear regress only has one independent variable impacting the slope of the relationship, multiple regression incorporates multiple independent variables.\\n'"
      ]
     },
     "execution_count": 5,
     "metadata": {},
     "output_type": "execute_result"
    }
   ],
   "source": [
    "'''\n",
    "Multiple regression is a broader class of regressions that encompasses linear and nonlinear regressions with multiple explanatory variables. Whereas linear regress only has one independent variable impacting the slope of the relationship, multiple regression incorporates multiple independent variables.\n",
    "'''"
   ]
  },
  {
   "cell_type": "markdown",
   "id": "eab02603-63a2-44a5-8a4f-cbc032385121",
   "metadata": {},
   "source": [
    "## Q6. Explain the concept of multicollinearity in multiple linear regression. How can you detect and address this issue?"
   ]
  },
  {
   "cell_type": "code",
   "execution_count": 6,
   "id": "4e1aaf4e-f470-44e7-b3d2-aa4c214c5795",
   "metadata": {},
   "outputs": [
    {
     "data": {
      "text/plain": [
       "'\\nMulticollinearity happens when independent variables in the regression model are highly correlated to each other. It makes it hard to interpret of model and also creates an overfitting problem. It is a common assumption that people test before selecting the variables into the regression model.\\n'"
      ]
     },
     "execution_count": 6,
     "metadata": {},
     "output_type": "execute_result"
    }
   ],
   "source": [
    "'''\n",
    "Multicollinearity happens when independent variables in the regression model are highly correlated to each other. It makes it hard to interpret of model and also creates an overfitting problem. It is a common assumption that people test before selecting the variables into the regression model.\n",
    "'''"
   ]
  },
  {
   "cell_type": "markdown",
   "id": "d03bc0e0-3a59-41b8-a2a6-f0b1e200eb40",
   "metadata": {},
   "source": [
    "## cQ7. Describe the polynomial regression model. How is it different from linear regression?"
   ]
  },
  {
   "cell_type": "code",
   "execution_count": 7,
   "id": "bbc2c336-4fa5-4307-8a42-c0c0035dcfe9",
   "metadata": {},
   "outputs": [
    {
     "data": {
      "text/plain": [
       "'\\nPolynomial regression is a form of Linear regression where only due to the Non-linear relationship between dependent and independent variables, we add some polynomial terms to linear regression to convert it into Polynomial regression.\\n'"
      ]
     },
     "execution_count": 7,
     "metadata": {},
     "output_type": "execute_result"
    }
   ],
   "source": [
    "'''\n",
    "Polynomial regression is a form of Linear regression where only due to the Non-linear relationship between dependent and independent variables, we add some polynomial terms to linear regression to convert it into Polynomial regression.\n",
    "'''"
   ]
  },
  {
   "cell_type": "markdown",
   "id": "2c2f9c53-020a-424a-b27b-02951d8961e4",
   "metadata": {
    "tags": []
   },
   "source": [
    "## Q8. What are the advantages and disadvantages of polynomial regression compared to linear regression? In what situations would you prefer to use polynomial regression?"
   ]
  },
  {
   "cell_type": "code",
   "execution_count": 8,
   "id": "43b669dd-5597-49a0-bb16-f9128d197c07",
   "metadata": {},
   "outputs": [
    {
     "data": {
      "text/plain": [
       "'\\nPolynomial provides the best approximation of the relationship between the dependent and independent variable.\\nA Broad range of function can be fit under it.\\nPolynomial basically fits a wide range of curvature.'"
      ]
     },
     "execution_count": 8,
     "metadata": {},
     "output_type": "execute_result"
    }
   ],
   "source": [
    "'''\n",
    "Polynomial provides the best approximation of the relationship between the dependent and independent variable.\n",
    "A Broad range of function can be fit under it.\n",
    "Polynomial basically fits a wide range of curvature.'''"
   ]
  },
  {
   "cell_type": "code",
   "execution_count": null,
   "id": "91347002-6b2d-4188-8b13-d519fd20b577",
   "metadata": {},
   "outputs": [],
   "source": []
  }
 ],
 "metadata": {
  "kernelspec": {
   "display_name": "Python 3 (ipykernel)",
   "language": "python",
   "name": "python3"
  },
  "language_info": {
   "codemirror_mode": {
    "name": "ipython",
    "version": 3
   },
   "file_extension": ".py",
   "mimetype": "text/x-python",
   "name": "python",
   "nbconvert_exporter": "python",
   "pygments_lexer": "ipython3",
   "version": "3.10.8"
  }
 },
 "nbformat": 4,
 "nbformat_minor": 5
}
