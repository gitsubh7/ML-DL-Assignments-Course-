{
 "cells": [
  {
   "attachments": {
    "38ab996e-5621-4e54-8c27-1ee4163cc26e.png": {
     "image/png": "[encoded data removed]"
    }
   },
   "cell_type": "markdown",
   "id": "0135dba0-77c4-4dea-89eb-5f2da1f98711",
   "metadata": {},
   "source": [
    "![image.png](attachment:38ab996e-5621-4e54-8c27-1ee4163cc26e.png)"
   ]
  },
  {
   "cell_type": "markdown",
   "id": "e7f5ff96-d338-4809-8234-8f28b0e28ccc",
   "metadata": {},
   "source": [
    "## Q1. What is a database? Differentiate between SQL and NoSQL databases."
   ]
  },
  {
   "cell_type": "markdown",
   "id": "442fd9ad-e59c-4e25-9e12-d9dfe20e5332",
   "metadata": {},
   "source": [
    "'''\n",
    "SQL databases are vertically scalable, while NoSQL databases are horizontally scalable.\n",
    "SQL databases are table-based, while NoSQL databases are document, key-value, graph, or wide-column stores. \n",
    "SQL databases are better for multi-row transactions, while NoSQL is better for unstructured data like documents or JSON\n",
    "'''"
   ]
  },
  {
   "cell_type": "markdown",
   "id": "c5bf1ae1-a739-4a4b-8b6a-93d865bfdaf2",
   "metadata": {},
   "source": [
    "## Q2. What is DDL? Explain why CREATE, DROP, ALTER, and TRUNCATE are used with an example."
   ]
  },
  {
   "cell_type": "code",
   "execution_count": null,
   "id": "3a6819fc-82c7-4291-8a1b-fb559a39e3bc",
   "metadata": {},
   "outputs": [],
   "source": [
    "'''CREATE :\n",
    "This command is used to create a new table in SQL.\n",
    "The user has to give information like table name, column names, and their datatype'''\n",
    "\n",
    "\n",
    "'''\n",
    "ALTER :\n",
    "This command is used to add, delete or change columns in the existing table. The user needs to know the existing table name and can do add, delete or modify tasks easily\n",
    "'''\n",
    "\n",
    "'''\n",
    "TRUNCATE :\n",
    "This command is used to remove all rows from the table, but the structure of the table still exists.\n",
    "'''\n",
    "\n",
    "'''\n",
    "DROP :\n",
    "This command is used to remove an existing table along with its structure from the Database.\n",
    "'''"
   ]
  },
  {
   "cell_type": "markdown",
   "id": "ee10af60-41e1-42ec-99e3-08aa972946e1",
   "metadata": {},
   "source": [
    "##  Q3. What is DML? Explain INSERT, UPDATE, and DELETE with an example."
   ]
  },
  {
   "cell_type": "code",
   "execution_count": null,
   "id": "7251efcc-539a-4421-a2b7-e856ac649ee4",
   "metadata": {},
   "outputs": [],
   "source": [
    "'''\n",
    "SELECT − Retrieve data from the database. INSERT − Insert data into a table. \n",
    "UPDATE − Update existing data within a table. DELETE − Delete records from a database table.'''"
   ]
  },
  {
   "cell_type": "markdown",
   "id": "ca2c6bbf-273a-4d0f-8148-8b6166218afb",
   "metadata": {},
   "source": [
    "## Q4. What is DQL? Explain SELECT with an example."
   ]
  },
  {
   "cell_type": "code",
   "execution_count": null,
   "id": "b6ba680b-524a-466e-88a6-4a7d30ea665e",
   "metadata": {},
   "outputs": [],
   "source": [
    "'''The SELECT statement is used to select data from a database. \n",
    "The data returned is stored in a result table, called the result-set.'''"
   ]
  },
  {
   "cell_type": "markdown",
   "id": "5e667b69-5775-4275-8315-123cfd4b4cd9",
   "metadata": {},
   "source": [
    "## Q5. Explain Primary Key and Foreign Key."
   ]
  },
  {
   "cell_type": "code",
   "execution_count": null,
   "id": "252d59d7-39e3-4d7c-9afc-8a8020917b36",
   "metadata": {},
   "outputs": [],
   "source": [
    "'''A relational database is designed to enforce the uniqueness of primary keys by allowing only one row with a given primary key value in a table. A foreign key is a column or a set of columns in a table whose values correspond to the values of the primary key in another table'''"
   ]
  },
  {
   "cell_type": "code",
   "execution_count": null,
   "id": "6732c0a3-fa78-4271-9e64-6b502674caeb",
   "metadata": {},
   "outputs": [],
   "source": [
    "import mysql.connector\n",
    "mydb = mysql.connector.connect(\n",
    "  host=\"localhost\",\n",
    "  user=\"abc\",\n",
    "  password=\"password\"\n",
    ")\n",
    "mycursor = mydb.cursor()\n",
    "\n"
   ]
  }
 ],
 "metadata": {
  "kernelspec": {
   "display_name": "Python 3 (ipykernel)",
   "language": "python",
   "name": "python3"
  },
  "language_info": {
   "codemirror_mode": {
    "name": "ipython",
    "version": 3
   },
   "file_extension": ".py",
   "mimetype": "text/x-python",
   "name": "python",
   "nbconvert_exporter": "python",
   "pygments_lexer": "ipython3",
   "version": "3.10.8"
  }
 },
 "nbformat": 4,
 "nbformat_minor": 5
}
