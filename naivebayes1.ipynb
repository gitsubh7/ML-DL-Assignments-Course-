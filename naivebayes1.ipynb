{
 "cells": [
  {
   "cell_type": "markdown",
   "id": "bdacc56e-5305-4816-9d9a-e82befb8a3eb",
   "metadata": {},
   "source": [
    "## Q1. What is Bayes' theorem?"
   ]
  },
  {
   "cell_type": "code",
   "execution_count": 1,
   "id": "8ad6a9d3-d64d-49fa-928f-01d950f7d137",
   "metadata": {},
   "outputs": [
    {
     "data": {
      "text/plain": [
       "\"\\nBayes' Theorem states that the conditional probability of an event, based on the occurrence of another event, is equal to the likelihood of the second event given the first event multiplied by the probability of the first event.\\n\""
      ]
     },
     "execution_count": 1,
     "metadata": {},
     "output_type": "execute_result"
    }
   ],
   "source": [
    "'''\n",
    "Bayes' Theorem states that the conditional probability of an event, based on the occurrence of another event, is equal to the likelihood of the second event given the first event multiplied by the probability of the first event.\n",
    "'''"
   ]
  },
  {
   "cell_type": "markdown",
   "id": "eff9569b-754b-4ef6-b1e6-459a0f85fa26",
   "metadata": {},
   "source": [
    "## Q2. What is the formula for Bayes' theorem?"
   ]
  },
  {
   "cell_type": "code",
   "execution_count": 2,
   "id": "d7ad9828-8735-4430-9c22-84c14687e0bd",
   "metadata": {},
   "outputs": [
    {
     "data": {
      "text/plain": [
       "'\\nBayes Theorem can be derived for events and random variables separately using the definition of conditional probability and density. Here, the joint probability P(A ⋂ B) of both events A and B being true such that, P(B ⋂ A) = P(A ⋂ B\\n'"
      ]
     },
     "execution_count": 2,
     "metadata": {},
     "output_type": "execute_result"
    }
   ],
   "source": [
    "'''\n",
    "Bayes Theorem can be derived for events and random variables separately using the definition of conditional probability and density. Here, the joint probability P(A ⋂ B) of both events A and B being true such that, P(B ⋂ A) = P(A ⋂ B\n",
    "'''"
   ]
  },
  {
   "cell_type": "markdown",
   "id": "5ddda705-cd87-451d-9293-f8d202b1da39",
   "metadata": {},
   "source": [
    "## Q3. How is Bayes' theorem used in practice?"
   ]
  },
  {
   "cell_type": "code",
   "execution_count": 3,
   "id": "fb028c37-fbdf-476f-9137-306cda8915e2",
   "metadata": {},
   "outputs": [
    {
     "data": {
      "text/plain": [
       "'\\nBayes rule can be used in the condition while answering the probabilistic queries conditioned on the piece of evidence.\\n'"
      ]
     },
     "execution_count": 3,
     "metadata": {},
     "output_type": "execute_result"
    }
   ],
   "source": [
    "'''\n",
    "Bayes rule can be used in the condition while answering the probabilistic queries conditioned on the piece of evidence.\n",
    "'''"
   ]
  },
  {
   "cell_type": "markdown",
   "id": "86bea1d7-2ab8-41a6-acf2-6094d4c4c6a0",
   "metadata": {},
   "source": [
    "## Q4. What is the relationship between Bayes' theorem and conditional probability?"
   ]
  },
  {
   "cell_type": "code",
   "execution_count": 4,
   "id": "9b71b35e-631c-4a3f-947e-ec306e67daa3",
   "metadata": {},
   "outputs": [
    {
     "data": {
      "text/plain": [
       "\"\\nBayes' Theorem states that the conditional probability of an event, based on the occurrence of another event, is equal to the likelihood of the second event given the first event multiplied by the probability of the first event\\n\""
      ]
     },
     "execution_count": 4,
     "metadata": {},
     "output_type": "execute_result"
    }
   ],
   "source": [
    "'''\n",
    "Bayes' Theorem states that the conditional probability of an event, based on the occurrence of another event, is equal to the likelihood of the second event given the first event multiplied by the probability of the first event\n",
    "'''"
   ]
  },
  {
   "cell_type": "markdown",
   "id": "b11a3e70-086c-49a9-90fa-00af4558a183",
   "metadata": {},
   "source": [
    "## Q5. How do you choose which type of Naive Bayes classifier to use for any given problem?"
   ]
  },
  {
   "cell_type": "code",
   "execution_count": 5,
   "id": "221f4996-3d1c-4191-88dd-3ce9e6b5dd99",
   "metadata": {},
   "outputs": [
    {
     "data": {
      "text/plain": [
       "'\\nThe Naive Bayes text classification algorithm is a type of probabilistic model used in machine learning. Harry R. Felson and Robert M. Maxwell designed the first text classification method to classify text documents with zero or more words from the document being classified as authorship or genre\\n'"
      ]
     },
     "execution_count": 5,
     "metadata": {},
     "output_type": "execute_result"
    }
   ],
   "source": [
    "'''\n",
    "The Naive Bayes text classification algorithm is a type of probabilistic model used in machine learning. Harry R. Felson and Robert M. Maxwell designed the first text classification method to classify text documents with zero or more words from the document being classified as authorship or genre\n",
    "'''"
   ]
  },
  {
   "cell_type": "markdown",
   "id": "122776a4-3e39-4fea-bb4f-db8f1a1065f1",
   "metadata": {},
   "source": [
    "## Q6. Assignment:\n",
    "You have a dataset with two features, X1 and X2, and two possible classes, A and B. You want to use Naive\n",
    "Bayes to classify a new instance with features X1 = 3 and X2 = 4. The following table shows the frequency of\n",
    "each feature value for each class:\n",
    "Class X1=1 X1=2 X1=3 X2=1 X2=2 X2=3 X2=4\n",
    "A 3 3 4 4 3 3 3\n",
    "B 2 2 1 2 2 2 3\n",
    "Assuming equal prior probabilities for each class, which class would Naive Bayes predict the new instance\n",
    "to belong to?"
   ]
  },
  {
   "cell_type": "code",
   "execution_count": null,
   "id": "67fc710a-d96b-423e-af74-1cb2db954d45",
   "metadata": {},
   "outputs": [],
   "source": []
  }
 ],
 "metadata": {
  "kernelspec": {
   "display_name": "Python 3 (ipykernel)",
   "language": "python",
   "name": "python3"
  },
  "language_info": {
   "codemirror_mode": {
    "name": "ipython",
    "version": 3
   },
   "file_extension": ".py",
   "mimetype": "text/x-python",
   "name": "python",
   "nbconvert_exporter": "python",
   "pygments_lexer": "ipython3",
   "version": "3.10.8"
  }
 },
 "nbformat": 4,
 "nbformat_minor": 5
}
