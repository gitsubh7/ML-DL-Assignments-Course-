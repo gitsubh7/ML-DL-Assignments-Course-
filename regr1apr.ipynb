{
 "cells": [
  {
   "cell_type": "markdown",
   "id": "73362174-bbe7-4114-be5d-f5a57986e06a",
   "metadata": {},
   "source": [
    "## Q1. Explain the difference between linear regression and logistic regression models. Provide an example of a scenario where logistic regression would be more appropriate."
   ]
  },
  {
   "cell_type": "code",
   "execution_count": 1,
   "id": "eb666383-0899-4b7a-ac9b-a6b9d5f5bfa5",
   "metadata": {},
   "outputs": [
    {
     "data": {
      "text/plain": [
       "'\\nThe Differences between Linear Regression and Logistic Regression. Linear Regression is used to handle regression problems whereas Logistic regression is used to handle the classification problems. Linear regression provides a continuous output but Logistic regression provides discreet output.\\n'"
      ]
     },
     "execution_count": 1,
     "metadata": {},
     "output_type": "execute_result"
    }
   ],
   "source": [
    "'''\n",
    "The Differences between Linear Regression and Logistic Regression. Linear Regression is used to handle regression problems whereas Logistic regression is used to handle the classification problems. Linear regression provides a continuous output but Logistic regression provides discreet output.\n",
    "'''"
   ]
  },
  {
   "cell_type": "markdown",
   "id": "da468a70-86a9-4697-9ba8-549210dfc799",
   "metadata": {},
   "source": [
    "## Q2. What is the cost function used in logistic regression, and how is it optimized?"
   ]
  },
  {
   "cell_type": "code",
   "execution_count": 3,
   "id": "c8d7c38e-2c57-4be1-8dd5-19b3c64f3874",
   "metadata": {},
   "outputs": [
    {
     "data": {
      "text/plain": [
       "'\\nThe cost function used in Logistic Regression is Log Loss'"
      ]
     },
     "execution_count": 3,
     "metadata": {},
     "output_type": "execute_result"
    }
   ],
   "source": [
    "'''\n",
    "The cost function used in Logistic Regression is Log Loss'''"
   ]
  },
  {
   "cell_type": "markdown",
   "id": "dcd3a5f0-2027-4398-adb8-04dac72184a0",
   "metadata": {},
   "source": [
    "## Q3. Explain the concept of regularization in logistic regression and how it helps prevent overfitting."
   ]
  },
  {
   "cell_type": "code",
   "execution_count": 4,
   "id": "1f830304-1c2c-482a-b655-4e627456a775",
   "metadata": {},
   "outputs": [
    {
     "data": {
      "text/plain": [
       "'\\nOverfitting is an occurrence that impacts the performance of a model negatively.\\n\\nIt occurs when a function fits a limited set of data points too closely. Data often has some elements of random noise within it. For example, the training data may contain data points that do not accurately represent the properties of the data. These points are considered as noise.\\n\\nWhen a function fits a set of such datapoints too closely, the model learns from noise in the data. This impacts the ability of the model to make reliable predictions on test data. The model may also be unable to fit additional data. This may lead to sub-par performance on test data.\\n\\nThe image below shows the phenomena of overfitt\\n'"
      ]
     },
     "execution_count": 4,
     "metadata": {},
     "output_type": "execute_result"
    }
   ],
   "source": [
    "'''\n",
    "Overfitting is an occurrence that impacts the performance of a model negatively.\n",
    "\n",
    "It occurs when a function fits a limited set of data points too closely. Data often has some elements of random noise within it. For example, the training data may contain data points that do not accurately represent the properties of the data. These points are considered as noise.\n",
    "\n",
    "When a function fits a set of such datapoints too closely, the model learns from noise in the data. This impacts the ability of the model to make reliable predictions on test data. The model may also be unable to fit additional data. This may lead to sub-par performance on test data.\n",
    "\n",
    "The image below shows the phenomena of overfitt\n",
    "'''"
   ]
  },
  {
   "cell_type": "markdown",
   "id": "80abf637-e1b9-4109-acf1-2dec8683b48c",
   "metadata": {},
   "source": [
    "## Q4. What is the ROC curve, and how is it used to evaluate the performance of the logistic regression model?"
   ]
  },
  {
   "cell_type": "code",
   "execution_count": 5,
   "id": "c3d671ad-295f-4072-aa95-d21957ce508a",
   "metadata": {},
   "outputs": [
    {
     "data": {
      "text/plain": [
       "'\\nThe Area Under the ROC curve (AUC) is an aggregated metric that evaluates how well a logistic regression model classifies positive and negative outcomes at all possible cutoffs. It can range from 0.5 to 1, and the larger it is the better.\\n'"
      ]
     },
     "execution_count": 5,
     "metadata": {},
     "output_type": "execute_result"
    }
   ],
   "source": [
    "'''\n",
    "The Area Under the ROC curve (AUC) is an aggregated metric that evaluates how well a logistic regression model classifies positive and negative outcomes at all possible cutoffs. It can range from 0.5 to 1, and the larger it is the better.\n",
    "'''"
   ]
  },
  {
   "cell_type": "markdown",
   "id": "0158bb96-fef2-4a2e-828e-3514f9084c53",
   "metadata": {},
   "source": [
    "## Q5. What are some common techniques for feature selection in logistic regression? How do these techniques help improve the model's performance?"
   ]
  },
  {
   "cell_type": "code",
   "execution_count": 6,
   "id": "a73eb011-a56e-4def-9de5-6cccc9c127b8",
   "metadata": {},
   "outputs": [
    {
     "data": {
      "text/plain": [
       "\"\\nTypes of Feature Selection Methods in ML\\nChi-square Test. The Chi-square test is used for categorical features in a dataset. ...\\nFisher's Score. ...\\nCorrelation Coefficient. ...\\nDispersion Ratio. ...\\nBackward Feature Elimination. ...\\nRecursive Feature Elimination. ...\\nRandom Forest Importance.\\n\""
      ]
     },
     "execution_count": 6,
     "metadata": {},
     "output_type": "execute_result"
    }
   ],
   "source": [
    "'''\n",
    "Types of Feature Selection Methods in ML\n",
    "Chi-square Test. The Chi-square test is used for categorical features in a dataset. ...\n",
    "Fisher's Score. ...\n",
    "Correlation Coefficient. ...\n",
    "Dispersion Ratio. ...\n",
    "Backward Feature Elimination. ...\n",
    "Recursive Feature Elimination. ...\n",
    "Random Forest Importance.\n",
    "'''"
   ]
  },
  {
   "cell_type": "markdown",
   "id": "acf0c752-7c9e-4746-b2ae-f43dd0158594",
   "metadata": {},
   "source": [
    "## Q6. How can you handle imbalanced datasets in logistic regression? What are some strategies for dealing with class imbalance?"
   ]
  },
  {
   "cell_type": "code",
   "execution_count": 7,
   "id": "a1c1db55-fb2e-417f-a185-b479013a99f5",
   "metadata": {},
   "outputs": [
    {
     "data": {
      "text/plain": [
       "'\\n7 Techniques to Handle Imbalanced Data. ...\\nUse the right evaluation metrics. ...\\nResample the training set. ...\\nUse K-fold Cross-Validation in the Right Way. ...\\nEnsemble Different Resampled Datasets. ...\\nResample with Different Ratios. ...\\nCluster the abundant class. ...\\nDesign Your Models.\\n'"
      ]
     },
     "execution_count": 7,
     "metadata": {},
     "output_type": "execute_result"
    }
   ],
   "source": [
    "'''\n",
    "7 Techniques to Handle Imbalanced Data. ...\n",
    "Use the right evaluation metrics. ...\n",
    "Resample the training set. ...\n",
    "Use K-fold Cross-Validation in the Right Way. ...\n",
    "Ensemble Different Resampled Datasets. ...\n",
    "Resample with Different Ratios. ...\n",
    "Cluster the abundant class. ...\n",
    "Design Your Models.\n",
    "'''"
   ]
  },
  {
   "cell_type": "markdown",
   "id": "d72c45da-e40b-46ae-8f75-02f6e5ed33ab",
   "metadata": {},
   "source": [
    "## Q7. Can you discuss some common issues and challenges that may arise when implementing logistic regression, and how they can be addressed? For example, what can be done if there is multicollinearity among the independent variables?"
   ]
  },
  {
   "cell_type": "code",
   "execution_count": null,
   "id": "3c8ffd6e-2bf4-4d8a-bcd5-577df68dafa5",
   "metadata": {},
   "outputs": [],
   "source": []
  }
 ],
 "metadata": {
  "kernelspec": {
   "display_name": "Python 3 (ipykernel)",
   "language": "python",
   "name": "python3"
  },
  "language_info": {
   "codemirror_mode": {
    "name": "ipython",
    "version": 3
   },
   "file_extension": ".py",
   "mimetype": "text/x-python",
   "name": "python",
   "nbconvert_exporter": "python",
   "pygments_lexer": "ipython3",
   "version": "3.10.8"
  }
 },
 "nbformat": 4,
 "nbformat_minor": 5
}
