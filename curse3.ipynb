{
 "cells": [
  {
   "cell_type": "markdown",
   "id": "e313d5d0-316b-4992-af7a-e8087224f455",
   "metadata": {},
   "source": [
    "##  Q1. What are Eigenvalues and Eigenvectors? How are they related to the Eigen-Decomposition approach? Explain with an example."
   ]
  },
  {
   "cell_type": "code",
   "execution_count": 1,
   "id": "51ad2796-00fc-4e71-92f0-0adf14b5b07e",
   "metadata": {},
   "outputs": [
    {
     "data": {
      "text/plain": [
       "'\\nEigenvalues are the special set of scalar values that is associated with the set of linear equations most probably in the matrix equations. The eigenvectors are also termed as characteristic roots. It is a non-zero vector that can be changed at most by its scalar factor after the application of linear transformations\\n'"
      ]
     },
     "execution_count": 1,
     "metadata": {},
     "output_type": "execute_result"
    }
   ],
   "source": [
    "'''\n",
    "Eigenvalues are the special set of scalar values that is associated with the set of linear equations most probably in the matrix equations. The eigenvectors are also termed as characteristic roots. It is a non-zero vector that can be changed at most by its scalar factor after the application of linear transformations\n",
    "'''"
   ]
  },
  {
   "cell_type": "markdown",
   "id": "5bcb30e7-2bef-45ad-902a-66ee67d9ca3f",
   "metadata": {},
   "source": [
    "## Q2. What is eigen decomposition and what is its significance in linear algebra?"
   ]
  },
  {
   "cell_type": "code",
   "execution_count": 2,
   "id": "b1a06dc1-6d56-4395-b6aa-9612c74eeba3",
   "metadata": {},
   "outputs": [
    {
     "data": {
      "text/plain": [
       "'\\nEigendecomposition provides us with a tool to decompose a matrix by discovering the eigenvalues and the eigenvectors. This operation can prove useful since it allows certain matrix operations to be easier to perform and it also tells us important facts about the matrix itself'"
      ]
     },
     "execution_count": 2,
     "metadata": {},
     "output_type": "execute_result"
    }
   ],
   "source": [
    "'''\n",
    "Eigendecomposition provides us with a tool to decompose a matrix by discovering the eigenvalues and the eigenvectors. This operation can prove useful since it allows certain matrix operations to be easier to perform and it also tells us important facts about the matrix itself'''"
   ]
  },
  {
   "cell_type": "markdown",
   "id": "8877fe58-fe91-4d13-87f0-1015f621e83a",
   "metadata": {},
   "source": [
    "## Q3. What are the conditions that must be satisfied for a square matrix to be diagonalizable using the Eigen-Decomposition approach? Provide a brief proof to support your answer."
   ]
  },
  {
   "cell_type": "code",
   "execution_count": 5,
   "id": "e93c1d7f-f0fd-4e86-a1e8-79d1cf4088e6",
   "metadata": {},
   "outputs": [
    {
     "data": {
      "text/plain": [
       "'\\nHence, a matrix is diagonalizable if and only if its nilpotent part is zero. Put in another way, a matrix is diagonalizable if each block in its Jordan form has no nilpotent part; i.e., one-by-one matrix\\n'"
      ]
     },
     "execution_count": 5,
     "metadata": {},
     "output_type": "execute_result"
    }
   ],
   "source": [
    "'''\n",
    "Hence, a matrix is diagonalizable if and only if its nilpotent part is zero. Put in another way, a matrix is diagonalizable if each block in its Jordan form has no nilpotent part; i.e., one-by-one matrix\n",
    "'''"
   ]
  },
  {
   "cell_type": "markdown",
   "id": "5b0c4f79-256d-4397-ae18-c206a5360ea6",
   "metadata": {},
   "source": [
    "## Q4. What is the significance of the spectral theorem in the context of the Eigen-Decomposition approach? How is it related to the diagonalizability of a matrix? Explain with an example."
   ]
  },
  {
   "cell_type": "code",
   "execution_count": 6,
   "id": "52e4ae42-800e-4027-8297-1663efb2468b",
   "metadata": {},
   "outputs": [
    {
     "data": {
      "text/plain": [
       "'\\nSpectral theorem states that any symmetric n x n Matrix which has real entries has exactly n real but possibly not distinct Eigenvalues and corresponding to those Eigenvalues there are mutually Orthogonal Eigenvectors.\\n'"
      ]
     },
     "execution_count": 6,
     "metadata": {},
     "output_type": "execute_result"
    }
   ],
   "source": [
    "'''\n",
    "Spectral theorem states that any symmetric n x n Matrix which has real entries has exactly n real but possibly not distinct Eigenvalues and corresponding to those Eigenvalues there are mutually Orthogonal Eigenvectors.\n",
    "'''"
   ]
  },
  {
   "cell_type": "markdown",
   "id": "f67ce566-d2d2-4ce1-ac7d-1b416d61c06b",
   "metadata": {},
   "source": [
    "## Q5. How do you find the eigenvalues of a matrix and what do they represent?"
   ]
  },
  {
   "cell_type": "code",
   "execution_count": 8,
   "id": "1a59e8d9-d8fe-44cf-83ac-ea7981b88984",
   "metadata": {},
   "outputs": [
    {
     "data": {
      "text/plain": [
       "'\\nStep 1: Make sure the given matrix A is a square matrix. ...\\nStep 2: Estimate the matrix A – λI, where λ is a scalar quantity.\\nStep 3: Find the determinant of matrix A – λI and equate it to zero.\\n'"
      ]
     },
     "execution_count": 8,
     "metadata": {},
     "output_type": "execute_result"
    }
   ],
   "source": [
    "'''\n",
    "Step 1: Make sure the given matrix A is a square matrix. ...\n",
    "Step 2: Estimate the matrix A – λI, where λ is a scalar quantity.\n",
    "Step 3: Find the determinant of matrix A – λI and equate it to zero.\n",
    "'''"
   ]
  },
  {
   "cell_type": "markdown",
   "id": "8e263a03-1e52-4f51-beb9-abac25108c57",
   "metadata": {},
   "source": [
    "## Q6. What are eigenvectors and how are they related to eigenvalues?"
   ]
  },
  {
   "cell_type": "code",
   "execution_count": 9,
   "id": "1330b383-7539-46ff-9782-69c11d05adc7",
   "metadata": {},
   "outputs": [
    {
     "data": {
      "text/plain": [
       "'\\nEigenvalues are the special set of scalar values that is associated with the set of linear equations most probably in the matrix equations. The eigenvectors are also termed as characteristic roots. It is a non-zero vector that can be changed at most by its scalar factor after the application of linear transformations\\n'"
      ]
     },
     "execution_count": 9,
     "metadata": {},
     "output_type": "execute_result"
    }
   ],
   "source": [
    "'''\n",
    "Eigenvalues are the special set of scalar values that is associated with the set of linear equations most probably in the matrix equations. The eigenvectors are also termed as characteristic roots. It is a non-zero vector that can be changed at most by its scalar factor after the application of linear transformations\n",
    "'''"
   ]
  },
  {
   "cell_type": "markdown",
   "id": "dccf70d6-ebc7-4d6c-8088-5411302b534b",
   "metadata": {},
   "source": [
    "## Q7. Can you explain the geometric interpretation of eigenvectors and eigenvalues?"
   ]
  },
  {
   "cell_type": "code",
   "execution_count": 10,
   "id": "db2f5a09-9054-4586-92c5-f44172ce52ce",
   "metadata": {},
   "outputs": [
    {
     "data": {
      "text/plain": [
       "'\\nGeometrically, an eigenvector, corresponding to a real nonzero eigenvalue, points in a direction in which it is stretched by the transformation and the eigenvalue is the factor by which it is stretched. If the eigenvalue is negative, the direction is reversed\\n'"
      ]
     },
     "execution_count": 10,
     "metadata": {},
     "output_type": "execute_result"
    }
   ],
   "source": [
    "'''\n",
    "Geometrically, an eigenvector, corresponding to a real nonzero eigenvalue, points in a direction in which it is stretched by the transformation and the eigenvalue is the factor by which it is stretched. If the eigenvalue is negative, the direction is reversed\n",
    "'''"
   ]
  },
  {
   "cell_type": "markdown",
   "id": "973b62c8-abf6-454d-b83e-b4ed5f3fdf54",
   "metadata": {},
   "source": [
    "## Q8. What are some real-world applications of eigen decomposition?"
   ]
  },
  {
   "cell_type": "code",
   "execution_count": 11,
   "id": "ad766612-c62f-447c-99e8-f9690d426ee3",
   "metadata": {},
   "outputs": [
    {
     "data": {
      "text/plain": [
       "'\\ndecoupling three phase system. Eigendecomposition is particularly useful for analysing the structure of the data matrix in terms of the eigenvalues and eigenvectors\\n'"
      ]
     },
     "execution_count": 11,
     "metadata": {},
     "output_type": "execute_result"
    }
   ],
   "source": [
    "'''\n",
    "decoupling three phase system. Eigendecomposition is particularly useful for analysing the structure of the data matrix in terms of the eigenvalues and eigenvectors\n",
    "'''"
   ]
  },
  {
   "cell_type": "markdown",
   "id": "c7b442f2-de09-477f-8f73-4db0a8948f04",
   "metadata": {},
   "source": [
    "## Q9. Can a matrix have more than one set of eigenvectors and eigenvalues?"
   ]
  },
  {
   "cell_type": "code",
   "execution_count": 13,
   "id": "ea6a2eab-139b-4db9-90db-d48ce89148d0",
   "metadata": {},
   "outputs": [
    {
     "data": {
      "text/plain": [
       "'\\n transformation does two things to a vector—stretch and rotate. An eigenvector (direction ) is one whose direction is not changed and the eigenvalue is the ‘stretch factor’ (which, for symmetric real transformations, is always real).\\n\\nSo now consider the transformation that maps (changes) every vector into itself (the ‘identity’ transformation whose matrix representation is 1’s on the diagonal and 0’s elsewhere*). Every direction is an eigenvector but the stretch is just ‘1’, so there is but one eigenvalue (alternately, the eigenvalues are ‘degenerately’ all of value 1). All vectors are eigenvectors corresponding to a single eigenvalue. This is of course just one example.\\n\\nThe identity transformation is a very special case but it’s not the only such case. The transformation might transform vectors into parallel vectors but only for a subspace; in this case every vector in the subspace is an eigenvector corresponding to the one eigenvalue. But ‘generally’, linear transformations of rank n will have n distinct eigenvalues and eigenvectors.\\n\\n'"
      ]
     },
     "execution_count": 13,
     "metadata": {},
     "output_type": "execute_result"
    }
   ],
   "source": [
    "'''\n",
    " transformation does two things to a vector—stretch and rotate. An eigenvector (direction ) is one whose direction is not changed and the eigenvalue is the ‘stretch factor’ (which, for symmetric real transformations, is always real).\n",
    "\n",
    "So now consider the transformation that maps (changes) every vector into itself (the ‘identity’ transformation whose matrix representation is 1’s on the diagonal and 0’s elsewhere*). Every direction is an eigenvector but the stretch is just ‘1’, so there is but one eigenvalue (alternately, the eigenvalues are ‘degenerately’ all of value 1). All vectors are eigenvectors corresponding to a single eigenvalue. This is of course just one example.\n",
    "\n",
    "The identity transformation is a very special case but it’s not the only such case. The transformation might transform vectors into parallel vectors but only for a subspace; in this case every vector in the subspace is an eigenvector corresponding to the one eigenvalue. But ‘generally’, linear transformations of rank n will have n distinct eigenvalues and eigenvectors.\n",
    "\n",
    "'''"
   ]
  },
  {
   "cell_type": "markdown",
   "id": "83e47a00-3747-4a52-adb7-f2951084211b",
   "metadata": {},
   "source": [
    "## Q10. In what ways is the Eigen-Decomposition approach useful in data analysis and machine learning? Discuss at least three specific applications or techniques that rely on Eigen-Decomposition."
   ]
  },
  {
   "cell_type": "code",
   "execution_count": null,
   "id": "7adda5c8-17e2-4315-8a5d-acacc9e9d903",
   "metadata": {},
   "outputs": [],
   "source": []
  }
 ],
 "metadata": {
  "kernelspec": {
   "display_name": "Python 3 (ipykernel)",
   "language": "python",
   "name": "python3"
  },
  "language_info": {
   "codemirror_mode": {
    "name": "ipython",
    "version": 3
   },
   "file_extension": ".py",
   "mimetype": "text/x-python",
   "name": "python",
   "nbconvert_exporter": "python",
   "pygments_lexer": "ipython3",
   "version": "3.10.8"
  }
 },
 "nbformat": 4,
 "nbformat_minor": 5
}
