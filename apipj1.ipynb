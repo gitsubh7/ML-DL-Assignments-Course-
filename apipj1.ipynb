{
 "cells": [
  {
   "cell_type": "markdown",
   "id": "4e771864-324a-4abd-8523-3cdf4c2fc05d",
   "metadata": {},
   "source": [
    "## NQ1. What is an API? Give an example, where an API is used in real life."
   ]
  },
  {
   "cell_type": "code",
   "execution_count": 1,
   "id": "b9141998-01cd-4613-9476-8b3477e1e72c",
   "metadata": {},
   "outputs": [
    {
     "data": {
      "text/plain": [
       "' \\nAPIs are used in web applications to connect user-facing front ends with critical back-end functionality and data. APIs are used to deliver material by streaming services such as Spotify and Netflix.'"
      ]
     },
     "execution_count": 1,
     "metadata": {},
     "output_type": "execute_result"
    }
   ],
   "source": [
    "''' \n",
    "APIs are used in web applications to connect user-facing front ends with critical back-end functionality and data. APIs are used to deliver material by streaming services such as Spotify and Netflix.'''\n"
   ]
  },
  {
   "cell_type": "markdown",
   "id": "954ba887-d9ae-49f8-8831-f4d4d41832f1",
   "metadata": {},
   "source": [
    "## Q2. Give advantages and disadvantages of using API."
   ]
  },
  {
   "cell_type": "code",
   "execution_count": 2,
   "id": "6e4d8ca9-76ad-4c8e-a328-1f6c50e2f48c",
   "metadata": {},
   "outputs": [
    {
     "data": {
      "text/plain": [
       "\"\\nThe main advantage of providing an API is that it allows your users to do more with your product or service (i.e. it increases the value of your product). This typically takes one of two forms -\\n\\nan integration. An example of an integration is to push notifications from your product (such as CRM, Helpdesk) to a messaging tool such as Slack. In this way, if your customer uses Slack they can receive notifications without having to login directly to your system or check emails.\\nnew functionality. In the early days of Twitter, some of the most popular Twitter clients were produced by third parties using the Twitter API. Twitter and its users benefited from the new functionality that was undertaken by other companies.\\n\\nThe disadvantages to providing an API are,\\n\\nCost. Providing an API is expensive in terms of development time, ongoing maintenance, providing API documentation on your website and providing support to users of your API.\\nSecurity exposure. Adding an API adds another attack surface to your website.\\nYou might not like the result or you may change business direction. It's not always easy to predict exactly how your API will be used. If your integration with a messaging system means that users login to your service less often, will there be an overall negative impact for you? Withdrawing an API can be painful for users if you decide that you need to do so. This is unusual but it can happen. As Twitter's business evolved it changed its rules for accessing its API which resulted in a number of problems for users and developer\\n\""
      ]
     },
     "execution_count": 2,
     "metadata": {},
     "output_type": "execute_result"
    }
   ],
   "source": [
    "'''\n",
    "The main advantage of providing an API is that it allows your users to do more with your product or service (i.e. it increases the value of your product). This typically takes one of two forms -\n",
    "\n",
    "an integration. An example of an integration is to push notifications from your product (such as CRM, Helpdesk) to a messaging tool such as Slack. In this way, if your customer uses Slack they can receive notifications without having to login directly to your system or check emails.\n",
    "new functionality. In the early days of Twitter, some of the most popular Twitter clients were produced by third parties using the Twitter API. Twitter and its users benefited from the new functionality that was undertaken by other companies.\n",
    "\n",
    "The disadvantages to providing an API are,\n",
    "\n",
    "Cost. Providing an API is expensive in terms of development time, ongoing maintenance, providing API documentation on your website and providing support to users of your API.\n",
    "Security exposure. Adding an API adds another attack surface to your website.\n",
    "You might not like the result or you may change business direction. It's not always easy to predict exactly how your API will be used. If your integration with a messaging system means that users login to your service less often, will there be an overall negative impact for you? Withdrawing an API can be painful for users if you decide that you need to do so. This is unusual but it can happen. As Twitter's business evolved it changed its rules for accessing its API which resulted in a number of problems for users and developer\n",
    "'''"
   ]
  },
  {
   "cell_type": "markdown",
   "id": "b9d9f2b9-5b66-4db6-a686-73c663bedf44",
   "metadata": {},
   "source": [
    "## Q3. What is a Web API? Differentiate between API and Web API."
   ]
  },
  {
   "cell_type": "code",
   "execution_count": 3,
   "id": "d5c99a73-ee18-48ee-94c0-2d18b11a4289",
   "metadata": {},
   "outputs": [
    {
     "data": {
      "text/plain": [
       "\"\\nWeb API as the name suggests, is an API over the web which can be accessed using HTTP protocol. It is a concept and not a technology. We can build Web API using different technologies such as Java, .NET etc. For example, Twitter's REST APIs provide programmatic access to read and write data using which we can integrate twitter's capabilities into our own application\\n\""
      ]
     },
     "execution_count": 3,
     "metadata": {},
     "output_type": "execute_result"
    }
   ],
   "source": [
    "'''\n",
    "Web API as the name suggests, is an API over the web which can be accessed using HTTP protocol. It is a concept and not a technology. We can build Web API using different technologies such as Java, .NET etc. For example, Twitter's REST APIs provide programmatic access to read and write data using which we can integrate twitter's capabilities into our own application\n",
    "'''\n"
   ]
  },
  {
   "cell_type": "markdown",
   "id": "b0fb0ffa-ad99-4299-a6c0-5c2dab68c290",
   "metadata": {},
   "source": [
    "## Q4. Explain REST and SOAP Architecture. Mention shortcomings of SOAP. "
   ]
  },
  {
   "cell_type": "code",
   "execution_count": null,
   "id": "b4f1ac7f-1733-45cc-a9c6-e62dce9fc46f",
   "metadata": {},
   "outputs": [],
   "source": [
    "Relies on SOAP (Simple Object Access Protocol)\t\n",
    "Relies on REST (Representational State Transfer) architecture using HTTP.\n",
    "\n",
    "Transports data in standard XML format.\n",
    "Generally transports data in JSON.\n",
    "It is based on URI. \n",
    "Because REST follows stateless model, REST does not enforces message format as XML or JSON etc.\n",
    "Because it is XML based and relies on SOAP, it works with WSDL\tIt works with GET, POST, PUT, DELETE"
   ]
  }
 ],
 "metadata": {
  "kernelspec": {
   "display_name": "Python 3 (ipykernel)",
   "language": "python",
   "name": "python3"
  },
  "language_info": {
   "codemirror_mode": {
    "name": "ipython",
    "version": 3
   },
   "file_extension": ".py",
   "mimetype": "text/x-python",
   "name": "python",
   "nbconvert_exporter": "python",
   "pygments_lexer": "ipython3",
   "version": "3.10.8"
  }
 },
 "nbformat": 4,
 "nbformat_minor": 5
}
