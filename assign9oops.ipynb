{
 "cells": [
  {
   "cell_type": "markdown",
   "id": "3d40e329-fd57-4d35-838d-460c548df531",
   "metadata": {},
   "source": [
    "# Q1, Create a vehicle class with an init method having instance variables as name_of_vehicle, max_speed and average_of_vehicle."
   ]
  },
  {
   "cell_type": "code",
   "execution_count": 1,
   "id": "ec75fd45-9764-4b51-b843-5f14d3a44d05",
   "metadata": {},
   "outputs": [],
   "source": [
    "class vehicle:\n",
    "    def __init__(self,name_of_vehicle, max_speed,average_of_vehicle):\n",
    "        self.name_of_vehicle= name_of_vehicle\n",
    "        self.max_speed=max_speed\n",
    "        self.average_of_vehicle=average_of_vehicle\n",
    "        \n",
    "    def return_details(self):\n",
    "        return self.name_of_vehicle, self.max_speed,self.average_of_vehicle\n",
    "    \n"
   ]
  },
  {
   "cell_type": "markdown",
   "id": "38926629-52a0-47d4-b6cd-2c81120274f8",
   "metadata": {},
   "source": [
    "# Q2. Create a child class car from the vehicle class created in Que 1, which will inherit the vehicle class.Create a method named seating_capacity which takes capacity as an argument and returns the name of the vehicle and its seating capacity."
   ]
  },
  {
   "cell_type": "code",
   "execution_count": 4,
   "id": "de871e48-3a9f-4413-a2ad-257451986bc6",
   "metadata": {},
   "outputs": [],
   "source": [
    "class car(vehicle):\n",
    "    def seating_capacity(self,capacity):\n",
    "        return self.capacity"
   ]
  },
  {
   "cell_type": "markdown",
   "id": "11200863-adf6-44d7-a79c-da1972991713",
   "metadata": {},
   "source": [
    "# Q3. What is multiple inheritance? Write a python code to demonstrate multiple inheritance."
   ]
  },
  {
   "cell_type": "code",
   "execution_count": 5,
   "id": "c09de727-50c1-41fb-810b-ecf8a2b4dd3e",
   "metadata": {},
   "outputs": [],
   "source": [
    "''' Multiple inheritance is a feature of some object-oriented\n",
    "computer programming languages in which an object or class can inherit features from more than one parent object or parent class'''\n",
    "class class1:\n",
    "    def test_class1(self):\n",
    "        print('THIS IS MY CLASS 1')"
   ]
  },
  {
   "cell_type": "code",
   "execution_count": 6,
   "id": "ca03337a-f3d6-4f12-a4b0-539499264064",
   "metadata": {},
   "outputs": [],
   "source": [
    "class class2(class1):\n",
    "    def test_class2(self):\n",
    "        print(\"THIS IS MY CLASS 2\")"
   ]
  },
  {
   "cell_type": "code",
   "execution_count": 10,
   "id": "b6d819ed-fa5a-4d4a-823e-aef5e17aa79d",
   "metadata": {},
   "outputs": [],
   "source": [
    "class class3(class2):\n",
    "    def test_class3(self):\n",
    "        print(\"THIS IS MY CLASS 3\")"
   ]
  },
  {
   "cell_type": "code",
   "execution_count": 11,
   "id": "eaf7a94f-3ed9-4c6c-9c85-2accfbc8dc31",
   "metadata": {},
   "outputs": [],
   "source": [
    "obj_car=class3()"
   ]
  },
  {
   "cell_type": "code",
   "execution_count": 13,
   "id": "05f32b3d-b307-4290-a4cc-de2e01e17172",
   "metadata": {},
   "outputs": [
    {
     "name": "stdout",
     "output_type": "stream",
     "text": [
      "THIS IS MY CLASS 3\n"
     ]
    }
   ],
   "source": [
    "obj_car.test_class3()"
   ]
  },
  {
   "cell_type": "markdown",
   "id": "649ef7be-fa87-4904-8052-d2b200fca62d",
   "metadata": {},
   "source": [
    "# Q4. What are getter and setter in python? Create a class and create a getter and a setter method in this class."
   ]
  },
  {
   "cell_type": "code",
   "execution_count": 16,
   "id": "ffaa5823-f255-498e-96e3-1e08b4c45f9a",
   "metadata": {},
   "outputs": [],
   "source": [
    "'''Getter: A method that allows you to access an attribute in a given class. \n",
    "Setter: A method that allows you to set or mutate the value of an attribute in a class.'''\n",
    "\n",
    "class pwskills:\n",
    "    \n",
    "    def __init__(self, course_price , course_name):\n",
    "        self.__course_price = course_price\n",
    "        self.course_name = course_name\n",
    "        \n",
    "    @property\n",
    "    def course_price_access(self):\n",
    "        return self.__course_price\n",
    "    \n",
    "    @course_price_access.setter\n",
    "    def course_price_set(self , price):\n",
    "        if price <= 3500:\n",
    "            pass\n",
    "        else :\n",
    "            self.__course_price = price\n"
   ]
  },
  {
   "cell_type": "markdown",
   "id": "1945e427-8975-48b4-a4fc-582bcbd7164a",
   "metadata": {},
   "source": [
    "# Q5.What is method overriding in python? Write a python code to demonstrate method overriding."
   ]
  },
  {
   "cell_type": "code",
   "execution_count": 14,
   "id": "130b9bc7-6f80-4052-9580-04cfc2ca43be",
   "metadata": {},
   "outputs": [
    {
     "data": {
      "text/plain": [
       "'Method overriding is an ability of any object-oriented programming language that allows a subclass or child class \\nto provide a specific implementation of a method that is already provided by one of its super-classes or parent classes'"
      ]
     },
     "execution_count": 14,
     "metadata": {},
     "output_type": "execute_result"
    }
   ],
   "source": [
    "'''Method overriding is an ability of any object-oriented programming language that allows a subclass or child class \n",
    "to provide a specific implementation of a method that is already provided by one of its super-classes or parent classes'''\n",
    "\n",
    "class Parent():\n",
    "      \n",
    "    # Constructor\n",
    "    def __init__(self):\n",
    "        self.value = \"Inside Parent\"\n",
    "          \n",
    "    # Parent's show method\n",
    "    def show(self):\n",
    "        print(self.value)\n",
    "          \n",
    "# Defining child class\n",
    "class Child(Parent):\n",
    "      \n",
    "    # Constructor\n",
    "    def __init__(self):\n",
    "        self.value = \"Inside Child\"\n",
    "          \n",
    "    # Child's show method\n",
    "    def show(self):\n",
    "        print(self.value)\n",
    "          \n",
    "          \n",
    "# Driver's code\n",
    "obj1 = Parent()\n",
    "obj2 = Child()\n",
    "  \n",
    "obj1.show()\n",
    "obj2.show()\n"
   ]
  },
  {
   "cell_type": "code",
   "execution_count": null,
   "id": "18954d4a-949e-4559-96af-e6230ce8582d",
   "metadata": {},
   "outputs": [],
   "source": []
  }
 ],
 "metadata": {
  "kernelspec": {
   "display_name": "Python 3 (ipykernel)",
   "language": "python",
   "name": "python3"
  },
  "language_info": {
   "codemirror_mode": {
    "name": "ipython",
    "version": 3
   },
   "file_extension": ".py",
   "mimetype": "text/x-python",
   "name": "python",
   "nbconvert_exporter": "python",
   "pygments_lexer": "ipython3",
   "version": "3.10.8"
  }
 },
 "nbformat": 4,
 "nbformat_minor": 5
}
