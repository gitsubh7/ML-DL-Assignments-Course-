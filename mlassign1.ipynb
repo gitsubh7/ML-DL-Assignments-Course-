{
 "cells": [
  {
   "cell_type": "markdown",
   "id": "b58337a8-9d4e-48e9-8f66-c311d321d61c",
   "metadata": {},
   "source": [
    "# Artificial Intelligence"
   ]
  },
  {
   "cell_type": "code",
   "execution_count": 2,
   "id": "0403ca89-092a-408d-8703-27b003a3813c",
   "metadata": {},
   "outputs": [
    {
     "data": {
      "text/plain": [
       "'\\nArtificial intelligence (AI) refers to the simulation of human intelligence in machines that are programmed to think like humans and\\nmimic their actions The term may also be applied to any machine that exhibits \\ntraits associated with a human mind such as learning and problem-solving\\nxamples of machines with artificial intelligence include computers that play chess and self-driving cars. Each of these machines must weigh the consequences of any action they take, as each action \\nwill impact the end result. In chess, the end result is winning the game.'"
      ]
     },
     "execution_count": 2,
     "metadata": {},
     "output_type": "execute_result"
    }
   ],
   "source": [
    "'''\n",
    "Artificial intelligence (AI) refers to the simulation of human intelligence in machines that are programmed to think like humans and\n",
    "mimic their actions The term may also be applied to any machine that exhibits \n",
    "traits associated with a human mind such as learning and problem-solving\n",
    "xamples of machines with artificial intelligence include computers that play chess and self-driving cars. Each of these machines must weigh the consequences of any action they take, as each action \n",
    "will impact the end result. In chess, the end result is winning the game.'''"
   ]
  },
  {
   "cell_type": "markdown",
   "id": "0280cd44-9582-4419-bd7e-f0bf1d67a7bc",
   "metadata": {},
   "source": [
    "# Machine Learning"
   ]
  },
  {
   "cell_type": "code",
   "execution_count": 3,
   "id": "df9fdd32-3d28-4471-ade1-72913eb74574",
   "metadata": {},
   "outputs": [
    {
     "data": {
      "text/plain": [
       "'Machine learning is a subfield of artificial intelligence, which is broadly defined as the capability of a machine to imitate intelligent human behavior. \\nArtificial intelligence systems are used to perform complex tasks in a way that is similar to how humans solve problems.\\nThere are some real-world examples of Image recognition, such as, Tagging the name on any photo as we have seen on Facebook\\n'"
      ]
     },
     "execution_count": 3,
     "metadata": {},
     "output_type": "execute_result"
    }
   ],
   "source": [
    "'''Machine learning is a subfield of artificial intelligence, which is broadly defined as the capability of a machine to imitate intelligent human behavior. \n",
    "Artificial intelligence systems are used to perform complex tasks in a way that is similar to how humans solve problems.\n",
    "There are some real-world examples of Image recognition, such as, Tagging the name on any photo as we have seen on Facebook\n",
    "'''\n"
   ]
  },
  {
   "cell_type": "markdown",
   "id": "0eb3e7e3-2684-45ec-9289-2626207188c0",
   "metadata": {},
   "source": [
    "# DEEP LEARNING"
   ]
  },
  {
   "cell_type": "code",
   "execution_count": 4,
   "id": "92f0f5b7-c47b-4b7e-b158-a4cd57bd3448",
   "metadata": {},
   "outputs": [
    {
     "data": {
      "text/plain": [
       "'\\nDeep Learning is a self-learning process as one layer “teaches” the next, and so forth. \\nJust like the neurons of a human brain, Deep Learning deploys layers to process heavy amounts of data,\\nclassify the unlabelled data, and perpetuate the learning process by feeding itself more data\\nDeep learning is a key technology behind driverless cars, enabling them to recognize a stop sign, or to distinguish a pedestrian from a lamppost.\\n\\n'"
      ]
     },
     "execution_count": 4,
     "metadata": {},
     "output_type": "execute_result"
    }
   ],
   "source": [
    "'''\n",
    "Deep Learning is a self-learning process as one layer “teaches” the next, and so forth. \n",
    "Just like the neurons of a human brain, Deep Learning deploys layers to process heavy amounts of data,\n",
    "classify the unlabelled data, and perpetuate the learning process by feeding itself more data\n",
    "Deep learning is a key technology behind driverless cars, enabling them to recognize a stop sign, or to distinguish a pedestrian from a lamppost.\n",
    "\n",
    "'''"
   ]
  },
  {
   "cell_type": "markdown",
   "id": "5d6ec5f5-6cd6-47ba-b657-b64d9144312a",
   "metadata": {},
   "source": [
    "# SUPERVISED LEARNING AND ITS EXAMPLES"
   ]
  },
  {
   "cell_type": "code",
   "execution_count": 5,
   "id": "1ae019f2-7499-4b4b-8697-5b403546a34c",
   "metadata": {},
   "outputs": [
    {
     "data": {
      "text/plain": [
       "'\\nSupervised learning is the types of machine learning in which machines are trained using well \"labelled\" training data, and on basis of that data, machines predict the output.\\nThe labelled data means some input data is already tagged with the correct output.\\nor example, yes or no, male or female, true or false, etc.\\nIn order to predict whether a mail is spam or not, we need to first teach the machine what a spam mail is\\n\\n'"
      ]
     },
     "execution_count": 5,
     "metadata": {},
     "output_type": "execute_result"
    }
   ],
   "source": [
    "'''\n",
    "Supervised learning is the types of machine learning in which machines are trained using well \"labelled\" training data, and on basis of that data, machines predict the output.\n",
    "The labelled data means some input data is already tagged with the correct output.\n",
    "or example, yes or no, male or female, true or false, etc.\n",
    "In order to predict whether a mail is spam or not, we need to first teach the machine what a spam mail is\n",
    "\n",
    "'''"
   ]
  },
  {
   "cell_type": "markdown",
   "id": "631dda0c-3ac2-4eec-9e2e-64393fc13776",
   "metadata": {},
   "source": [
    "# UNSUPERVISED LEARNING AND ITS EXAMPLES"
   ]
  },
  {
   "cell_type": "code",
   "execution_count": 6,
   "id": "aa08aa01-2807-41ae-9a69-442c4b711458",
   "metadata": {},
   "outputs": [
    {
     "data": {
      "text/plain": [
       "'Unsupervised learning, also known as unsupervised machine learning, uses machine learning algorithms to analyze and cluster unlabeled datasets.\\nThese algorithms discover hidden patterns or data groupings without the need for human intervention.\\nSome examples of unsupervised learning algorithms include K-Means Clustering, Principal Component Analysis and Hierarchical Clustering\\n\\n'"
      ]
     },
     "execution_count": 6,
     "metadata": {},
     "output_type": "execute_result"
    }
   ],
   "source": [
    "'''Unsupervised learning, also known as unsupervised machine learning, uses machine learning algorithms to analyze and cluster unlabeled datasets.\n",
    "These algorithms discover hidden patterns or data groupings without the need for human intervention.\n",
    "Some examples of unsupervised learning algorithms include K-Means Clustering, Principal Component Analysis and Hierarchical Clustering\n",
    "\n",
    "'''"
   ]
  },
  {
   "cell_type": "markdown",
   "id": "cdff04c1-4b54-4b06-b9ce-6df838caa551",
   "metadata": {},
   "source": [
    "# AI VS ML VS DL VS DS"
   ]
  },
  {
   "cell_type": "code",
   "execution_count": 9,
   "id": "b4895b9e-f29a-47a2-b956-64f5f4414655",
   "metadata": {},
   "outputs": [
    {
     "data": {
      "text/plain": [
       "'Machine Learning is a sub-category of AI, and Deep Learning is a sub-category of ML, meaning they are both forms of AI. \\nArtificial intelligence is the broad idea that machines can intelligently execute tasks by mimicking human behaviours and thought processes and DS is the science of all three combined'"
      ]
     },
     "execution_count": 9,
     "metadata": {},
     "output_type": "execute_result"
    }
   ],
   "source": [
    "'''Machine Learning is a sub-category of AI, and Deep Learning is a sub-category of ML, meaning they are both forms of AI. \n",
    "Artificial intelligence is the broad idea that machines can intelligently execute tasks by mimicking human behaviours and thought processes and DS is the science of all three combined'''"
   ]
  },
  {
   "cell_type": "markdown",
   "id": "791a2e56-4f1b-4088-91e0-70265ef2e4d4",
   "metadata": {},
   "source": [
    "# SL vs USL vs SSL"
   ]
  },
  {
   "cell_type": "code",
   "execution_count": 10,
   "id": "a45f23de-7150-4284-918a-77697384d2d8",
   "metadata": {},
   "outputs": [
    {
     "data": {
      "text/plain": [
       "'In supervised learning, we have a basic idea beforehand as to what the result is going to be. \\nThe input data is labeled and the main task of the model is to either map the output with the input labels\\nor when the input label is mapped as a continuous output. \\n\\nIn unsupervised learning, the data is unlabeled and its goal is to find out the natural patterns present within data points in the given dataset.\\nIt does not have a feedback mechanism unlike supervised learning and hence this technique is known as unsupervised learning.\\n\\nSemi-supervised learning falls in-between supervised and unsupervised learning. Here, while training the model, the training dataset comprises of a small amount of labeled data and a large amount of unlabeled data.\\nThis can also be taken as an example for weak supervision.'"
      ]
     },
     "execution_count": 10,
     "metadata": {},
     "output_type": "execute_result"
    }
   ],
   "source": [
    "'''In supervised learning, we have a basic idea beforehand as to what the result is going to be. \n",
    "The input data is labeled and the main task of the model is to either map the output with the input labels\n",
    "or when the input label is mapped as a continuous output. \n",
    "\n",
    "In unsupervised learning, the data is unlabeled and its goal is to find out the natural patterns present within data points in the given dataset.\n",
    "It does not have a feedback mechanism unlike supervised learning and hence this technique is known as unsupervised learning.\n",
    "\n",
    "Semi-supervised learning falls in-between supervised and unsupervised learning. Here, while training the model, the training dataset comprises of a small amount of labeled data and a large amount of unlabeled data.\n",
    "This can also be taken as an example for weak supervision.'''"
   ]
  },
  {
   "cell_type": "markdown",
   "id": "496c2889-dffc-4022-b0c7-c62e81fcac43",
   "metadata": {},
   "source": [
    "# TRAIN, VALIDATION . TEST SPLIIT"
   ]
  },
  {
   "cell_type": "code",
   "execution_count": 11,
   "id": "57c66787-b726-4b1d-81e2-0d991c6741fc",
   "metadata": {},
   "outputs": [
    {
     "data": {
      "text/plain": [
       "'The difference between the training set and the validation \\nset is the training set is the largest corpus of your dataset that you reserve for training your mode.\\n\\nThe validation set is a separate section of your dataset that you will use during training to get a sense of how well your model is \\ndoing on images that are not being used in training.\\n\\nAfter all of the training experiments have concluded, you probably have gotten a sense on how your model might do on the validation set\\n'"
      ]
     },
     "execution_count": 11,
     "metadata": {},
     "output_type": "execute_result"
    }
   ],
   "source": [
    "'''The difference between the training set and the validation \n",
    "set is the training set is the largest corpus of your dataset that you reserve for training your mode.\n",
    "\n",
    "The validation set is a separate section of your dataset that you will use during training to get a sense of how well your model is \n",
    "doing on images that are not being used in training.\n",
    "\n",
    "After all of the training experiments have concluded, you probably have gotten a sense on how your model might do on the validation set\n",
    "'''"
   ]
  },
  {
   "cell_type": "markdown",
   "id": "85cc7f87-f974-44b7-8820-ce46a7acbd7a",
   "metadata": {},
   "source": [
    "# UNSUPERVISED LEANING ANOMALY DETECTION"
   ]
  },
  {
   "cell_type": "code",
   "execution_count": 12,
   "id": "f5034517-427d-49f8-b1eb-b00a6f44fd95",
   "metadata": {},
   "outputs": [
    {
     "data": {
      "text/plain": [
       "'Unsupervised is useful when the data is unlabeled and thus requires less work to process the data set before- hand. Anomaly detection techniques of unsupervised nature assume that normal data points occur considerably\\nmore frequently than anomalous data points.'"
      ]
     },
     "execution_count": 12,
     "metadata": {},
     "output_type": "execute_result"
    }
   ],
   "source": [
    "'''Unsupervised is useful when the data is unlabeled and thus requires less work to process the data set before- hand. Anomaly detection techniques of unsupervised nature assume that normal data points occur considerably\n",
    "more frequently than anomalous data points.'''"
   ]
  },
  {
   "cell_type": "markdown",
   "id": "211c9d70-d983-4319-b212-c9fa23f59699",
   "metadata": {},
   "source": [
    "# ALGO OF UNSUP AND SUP LEARNING"
   ]
  },
  {
   "cell_type": "code",
   "execution_count": 13,
   "id": "a0185e5d-7fd8-4b40-98ad-0deb31c75bac",
   "metadata": {},
   "outputs": [
    {
     "data": {
      "text/plain": [
       "'SUP learning: Linear Regression · Regression Trees · Non-Linear Regression · Bayesian Linear Regression · Polynomial Regression\\nUNSUP Learning:  K-means clustering.\\nKNN (k-nearest neighbors)\\nHierarchal clustering.\\nAnomaly detection.'"
      ]
     },
     "execution_count": 13,
     "metadata": {},
     "output_type": "execute_result"
    }
   ],
   "source": [
    "'''SUP learning: Linear Regression · Regression Trees · Non-Linear Regression · Bayesian Linear Regression · Polynomial Regression\n",
    "UNSUP Learning:  K-means clustering.\n",
    "KNN (k-nearest neighbors)\n",
    "Hierarchal clustering.\n",
    "Anomaly detection.'''"
   ]
  },
  {
   "cell_type": "code",
   "execution_count": null,
   "id": "fb1ab2b6-428c-499d-b7cf-8dc017dddf79",
   "metadata": {},
   "outputs": [],
   "source": []
  }
 ],
 "metadata": {
  "kernelspec": {
   "display_name": "Python 3 (ipykernel)",
   "language": "python",
   "name": "python3"
  },
  "language_info": {
   "codemirror_mode": {
    "name": "ipython",
    "version": 3
   },
   "file_extension": ".py",
   "mimetype": "text/x-python",
   "name": "python",
   "nbconvert_exporter": "python",
   "pygments_lexer": "ipython3",
   "version": "3.10.8"
  }
 },
 "nbformat": 4,
 "nbformat_minor": 5
}
